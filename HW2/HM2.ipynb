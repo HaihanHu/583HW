{
 "cells": [
  {
   "cell_type": "markdown",
   "metadata": {},
   "source": [
    "# HM2: Numerical Optimization for Logistic Regression.\n",
    "\n",
    "### Name: [Haihan Hu]\n"
   ]
  },
  {
   "cell_type": "markdown",
   "metadata": {},
   "source": [
    "## 0. You will do the following:\n",
    "\n",
    "1. Read the lecture note: [click here](https://github.com/wangshusen/DeepLearning/blob/master/LectureNotes/Logistic/paper/logistic.pdf)\n",
    "\n",
    "2. Read, complete, and run my code.\n",
    "\n",
    "3. **Implement mini-batch SGD** and evaluate the performance.\n",
    "\n",
    "4. Convert the .IPYNB file to .HTML file.\n",
    "\n",
    "    * The HTML file must contain **the code** and **the output after execution**.\n",
    "    \n",
    "    * Missing **the output after execution** will not be graded.\n",
    "    \n",
    "5. Upload this .HTML file to your Google Drive, Dropbox, or your Github repo.  (If you submit the file to Google Drive or Dropbox, you must make the file \"open-access\". The delay caused by \"deny of access\" may result in late penalty.)\n",
    "\n",
    "6. Submit the link to this .HTML file to Canvas.\n",
    "\n",
    "    * Example: https://github.com/wangshusen/CS583-2020S/blob/master/homework/HM2/HM2.html\n",
    "\n",
    "\n",
    "## Grading criteria:\n",
    "\n",
    "1. When computing the ```gradient``` and ```objective function value``` using a batch of samples, use **matrix-vector multiplication** rather than a FOR LOOP of **vector-vector multiplications**.\n",
    "\n",
    "2. Plot ```objective function value``` against ```epochs```. In the plot, compare GD, SGD, and MB-SGD (with $b=8$ and $b=64$). The plot must look reasonable."
   ]
  },
  {
   "cell_type": "code",
   "execution_count": null,
   "metadata": {},
   "outputs": [],
   "source": []
  },
  {
   "cell_type": "markdown",
   "metadata": {},
   "source": [
    "# 1. Data processing\n",
    "\n",
    "- Download the Diabete dataset from https://www.csie.ntu.edu.tw/~cjlin/libsvmtools/datasets/binary/diabetes\n",
    "- Load the data using sklearn.\n",
    "- Preprocess the data."
   ]
  },
  {
   "cell_type": "markdown",
   "metadata": {},
   "source": [
    "## 1.1. Load the data"
   ]
  },
  {
   "cell_type": "code",
   "execution_count": 1,
   "metadata": {},
   "outputs": [
    {
     "name": "stdout",
     "output_type": "stream",
     "text": [
      "Shape of x: (768, 8)\n",
      "Shape of y: (768,)\n"
     ]
    }
   ],
   "source": [
    "from sklearn import datasets\n",
    "import numpy\n",
    "\n",
    "x_sparse, y = datasets.load_svmlight_file('/Users/shirleyhu/Documents/cs583/CS583-2020S-master/homework/HM2/diabetes')\n",
    "x = x_sparse.todense()\n",
    "\n",
    "print('Shape of x: ' + str(x.shape))\n",
    "print('Shape of y: ' + str(y.shape))"
   ]
  },
  {
   "cell_type": "markdown",
   "metadata": {},
   "source": [
    "## 1.2. Partition to training and test sets"
   ]
  },
  {
   "cell_type": "code",
   "execution_count": 2,
   "metadata": {},
   "outputs": [
    {
     "name": "stdout",
     "output_type": "stream",
     "text": [
      "Shape of x_train: (640, 8)\n",
      "Shape of x_test: (128, 8)\n",
      "Shape of y_train: (640, 1)\n",
      "Shape of y_test: (128, 1)\n"
     ]
    }
   ],
   "source": [
    "# partition the data to training and test sets\n",
    "n = x.shape[0]\n",
    "n_train = 640\n",
    "n_test = n - n_train\n",
    "\n",
    "rand_indices = numpy.random.permutation(n)\n",
    "train_indices = rand_indices[0:n_train]\n",
    "test_indices = rand_indices[n_train:n]\n",
    "\n",
    "x_train = x[train_indices, :]\n",
    "x_test = x[test_indices, :]\n",
    "y_train = y[train_indices].reshape(n_train, 1)\n",
    "y_test = y[test_indices].reshape(n_test, 1)\n",
    "\n",
    "print('Shape of x_train: ' + str(x_train.shape))\n",
    "print('Shape of x_test: ' + str(x_test.shape))\n",
    "print('Shape of y_train: ' + str(y_train.shape))\n",
    "print('Shape of y_test: ' + str(y_test.shape))"
   ]
  },
  {
   "cell_type": "markdown",
   "metadata": {},
   "source": [
    "## 1.3. Feature scaling"
   ]
  },
  {
   "cell_type": "markdown",
   "metadata": {},
   "source": [
    "Use the standardization to trainsform both training and test features"
   ]
  },
  {
   "cell_type": "code",
   "execution_count": 3,
   "metadata": {},
   "outputs": [
    {
     "name": "stdout",
     "output_type": "stream",
     "text": [
      "test mean = \n",
      "[[-0.03935262  0.04443485  0.19195836  0.09951624 -0.01791665  0.12060542\n",
      "  -0.05320041  0.1428561 ]]\n",
      "test std = \n",
      "[[0.98584776 1.03621361 0.83262784 1.13023224 1.02067347 0.95239536\n",
      "  0.79065343 1.15181852]]\n"
     ]
    }
   ],
   "source": [
    "# Standardization\n",
    "import numpy\n",
    "\n",
    "# calculate mu and sig using the training set\n",
    "d = x_train.shape[1]\n",
    "mu = numpy.mean(x_train, axis=0).reshape(1, d)\n",
    "sig = numpy.std(x_train, axis=0).reshape(1, d)\n",
    "\n",
    "# transform the training features\n",
    "x_train = (x_train - mu) / (sig + 1E-6)\n",
    "\n",
    "# transform the test features\n",
    "x_test = (x_test - mu) / (sig + 1E-6)\n",
    "\n",
    "print('test mean = ')\n",
    "print(numpy.mean(x_test, axis=0))\n",
    "\n",
    "print('test std = ')\n",
    "print(numpy.std(x_test, axis=0))"
   ]
  },
  {
   "cell_type": "markdown",
   "metadata": {},
   "source": [
    "## 1.4. Add a dimension of all ones"
   ]
  },
  {
   "cell_type": "code",
   "execution_count": 4,
   "metadata": {},
   "outputs": [
    {
     "name": "stdout",
     "output_type": "stream",
     "text": [
      "Shape of x_train: (640, 9)\n",
      "Shape of x_test: (128, 9)\n"
     ]
    }
   ],
   "source": [
    "n_train, d = x_train.shape\n",
    "x_train = numpy.concatenate((x_train, numpy.ones((n_train, 1))), axis=1)\n",
    "\n",
    "n_test, d = x_test.shape\n",
    "x_test = numpy.concatenate((x_test, numpy.ones((n_test, 1))), axis=1)\n",
    "\n",
    "print('Shape of x_train: ' + str(x_train.shape))\n",
    "print('Shape of x_test: ' + str(x_test.shape))"
   ]
  },
  {
   "cell_type": "markdown",
   "metadata": {},
   "source": [
    "# 2. Logistic regression model\n",
    "\n",
    "The objective function is $Q (w; X, y) = \\frac{1}{n} \\sum_{i=1}^n \\log \\Big( 1 + \\exp \\big( - y_i x_i^T w \\big) \\Big) + \\frac{\\lambda}{2} \\| w \\|_2^2 $."
   ]
  },
  {
   "cell_type": "code",
   "execution_count": 5,
   "metadata": {},
   "outputs": [],
   "source": [
    "# Calculate the objective function value\n",
    "# Inputs:\n",
    "#     w: d-by-1 matrix\n",
    "#     x: n-by-d matrix\n",
    "#     y: n-by-1 matrix\n",
    "#     lam: scalar, the regularization parameter\n",
    "# Return:\n",
    "#     objective function value (scalar)\n",
    "def objective(w, x, y, lam):\n",
    "    n, d = x.shape\n",
    "    yx = numpy.multiply(y, x) # n-by-d matrix\n",
    "    yxw = numpy.dot(yx, w) # n-by-1 matrix\n",
    "    vec1 = numpy.exp(-yxw) # n-by-1 matrix\n",
    "    vec2 = numpy.log(1 + vec1) # n-by-1 matrix\n",
    "    loss = numpy.mean(vec2) # scalar\n",
    "    reg = lam / 2 * numpy.sum(w * w) # scalar\n",
    "    return loss + reg\n",
    "    "
   ]
  },
  {
   "cell_type": "code",
   "execution_count": 6,
   "metadata": {},
   "outputs": [
    {
     "name": "stdout",
     "output_type": "stream",
     "text": [
      "Initial objective function value = 0.6931471805599453\n"
     ]
    }
   ],
   "source": [
    "# initialize w\n",
    "d = x_train.shape[1]\n",
    "w = numpy.zeros((d, 1))\n",
    "\n",
    "# evaluate the objective function value at w\n",
    "lam = 1E-6\n",
    "objval0 = objective(w, x_train, y_train, lam)\n",
    "print('Initial objective function value = ' + str(objval0))"
   ]
  },
  {
   "cell_type": "markdown",
   "metadata": {},
   "source": [
    "# 3. Numerical optimization"
   ]
  },
  {
   "cell_type": "markdown",
   "metadata": {},
   "source": [
    "## 3.1. Gradient descent\n"
   ]
  },
  {
   "cell_type": "markdown",
   "metadata": {},
   "source": [
    "The gradient at $w$ is $g = - \\frac{1}{n} \\sum_{i=1}^n \\frac{y_i x_i }{1 + \\exp ( y_i x_i^T w)} + \\lambda w$"
   ]
  },
  {
   "cell_type": "code",
   "execution_count": 7,
   "metadata": {},
   "outputs": [],
   "source": [
    "# Calculate the gradient\n",
    "# Inputs:\n",
    "#     w: d-by-1 matrix\n",
    "#     x: n-by-d matrix\n",
    "#     y: n-by-1 matrix\n",
    "#     lam: scalar, the regularization parameter\n",
    "# Return:\n",
    "#     g: g: d-by-1 matrix, full gradient\n",
    "def gradient(w, x, y, lam):\n",
    "    n, d = x.shape\n",
    "    yx = numpy.multiply(y, x) # n-by-d matrix\n",
    "    yxw = numpy.dot(yx, w) # n-by-1 matrix\n",
    "    vec1 = numpy.exp(yxw) # n-by-1 matrix\n",
    "    vec2 = numpy.divide(yx, 1+vec1) # n-by-d matrix\n",
    "    vec3 = -numpy.mean(vec2, axis=0).reshape(d, 1) # d-by-1 matrix\n",
    "    g = vec3 + lam * w\n",
    "    return g"
   ]
  },
  {
   "cell_type": "code",
   "execution_count": 8,
   "metadata": {},
   "outputs": [],
   "source": [
    "# Gradient descent for solving logistic regression\n",
    "# Inputs:\n",
    "#     x: n-by-d matrix\n",
    "#     y: n-by-1 matrix\n",
    "#     lam: scalar, the regularization parameter\n",
    "#     stepsize: scalar\n",
    "#     max_iter: integer, the maximal iterations\n",
    "#     w: d-by-1 matrix, initialization of w\n",
    "# Return:\n",
    "#     w: d-by-1 matrix, the solution\n",
    "#     objvals: a record of each iteration's objective value\n",
    "def grad_descent(x, y, lam, stepsize, max_iter=100, w=None):\n",
    "    n, d = x.shape\n",
    "    objvals = numpy.zeros(max_iter) # store the objective values\n",
    "    if w is None:\n",
    "        w = numpy.zeros((d, 1)) # zero initialization\n",
    "    \n",
    "    for t in range(max_iter):\n",
    "        objval = objective(w, x, y, lam)\n",
    "        objvals[t] = objval\n",
    "        print('Objective value at t=' + str(t) + ' is ' + str(objval))\n",
    "        g = gradient(w, x, y, lam)\n",
    "        w -= stepsize * g\n",
    "    \n",
    "    return w, objvals"
   ]
  },
  {
   "cell_type": "markdown",
   "metadata": {},
   "source": [
    "Run gradient descent."
   ]
  },
  {
   "cell_type": "code",
   "execution_count": 9,
   "metadata": {},
   "outputs": [
    {
     "name": "stdout",
     "output_type": "stream",
     "text": [
      "Objective value at t=0 is 0.6931471805599453\n",
      "Objective value at t=1 is 0.5897703512252106\n",
      "Objective value at t=2 is 0.5461531334320102\n",
      "Objective value at t=3 is 0.5224206749928969\n",
      "Objective value at t=4 is 0.5076136412498236\n",
      "Objective value at t=5 is 0.4976453264395311\n",
      "Objective value at t=6 is 0.4906083471577524\n",
      "Objective value at t=7 is 0.48547592052000094\n",
      "Objective value at t=8 is 0.4816410476588245\n",
      "Objective value at t=9 is 0.47872111927715977\n",
      "Objective value at t=10 is 0.47646358655743215\n",
      "Objective value at t=11 is 0.47469584753759475\n",
      "Objective value at t=12 is 0.4732966560290347\n",
      "Objective value at t=13 is 0.4721789060007236\n",
      "Objective value at t=14 is 0.4712788235755863\n",
      "Objective value at t=15 is 0.4705489521852514\n",
      "Objective value at t=16 is 0.4699534735267663\n",
      "Objective value at t=17 is 0.4694650137248844\n",
      "Objective value at t=18 is 0.46906241939777077\n",
      "Objective value at t=19 is 0.4687291817015777\n",
      "Objective value at t=20 is 0.468452301957081\n",
      "Objective value at t=21 is 0.4682214635443492\n",
      "Objective value at t=22 is 0.4680284195993743\n",
      "Objective value at t=23 is 0.46786653496521574\n",
      "Objective value at t=24 is 0.4677304398592019\n",
      "Objective value at t=25 is 0.46761576542984906\n",
      "Objective value at t=26 is 0.4675189400120681\n",
      "Objective value at t=27 is 0.4674370308390864\n",
      "Objective value at t=28 is 0.46736762012372374\n",
      "Objective value at t=29 is 0.46730870735786006\n",
      "Objective value at t=30 is 0.4672586317781002\n",
      "Objective value at t=31 is 0.46721601046249667\n",
      "Objective value at t=32 is 0.46717968863031933\n",
      "Objective value at t=33 is 0.4671486995325888\n",
      "Objective value at t=34 is 0.4671222319274675\n",
      "Objective value at t=35 is 0.4670996035891543\n",
      "Objective value at t=36 is 0.46708023964236983\n",
      "Objective value at t=37 is 0.4670636547759514\n",
      "Objective value at t=38 is 0.4670494385895061\n",
      "Objective value at t=39 is 0.46703724348174463\n",
      "Objective value at t=40 is 0.46702677460925757\n",
      "Objective value at t=41 is 0.4670177815383587\n",
      "Objective value at t=42 is 0.467010051286381\n",
      "Objective value at t=43 is 0.4670034025070794\n",
      "Objective value at t=44 is 0.4669976806210652\n",
      "Objective value at t=45 is 0.46699275372911725\n",
      "Objective value at t=46 is 0.46698850917580204\n",
      "Objective value at t=47 is 0.46698485065466366\n",
      "Objective value at t=48 is 0.4669816957654904\n",
      "Objective value at t=49 is 0.4669789739497984\n",
      "Objective value at t=50 is 0.46697662474338897\n",
      "Objective value at t=51 is 0.46697459629524013\n",
      "Objective value at t=52 is 0.4669728441105159\n",
      "Objective value at t=53 is 0.4669713299824858\n",
      "Objective value at t=54 is 0.46697002108393665\n",
      "Objective value at t=55 is 0.4669688891934326\n",
      "Objective value at t=56 is 0.46696791003575044\n",
      "Objective value at t=57 is 0.466967062719112\n",
      "Objective value at t=58 is 0.4669663292545809\n",
      "Objective value at t=59 is 0.46696569414528144\n",
      "Objective value at t=60 is 0.4669651440350203\n",
      "Objective value at t=61 is 0.46696466740749254\n",
      "Objective value at t=62 is 0.46696425432860805\n",
      "Objective value at t=63 is 0.4669638962256084\n",
      "Objective value at t=64 is 0.4669635856975981\n",
      "Objective value at t=65 is 0.466963316352925\n",
      "Objective value at t=66 is 0.46696308266952213\n",
      "Objective value at t=67 is 0.466962879874904\n",
      "Objective value at t=68 is 0.4669627038429955\n",
      "Objective value at t=69 is 0.46696255100538664\n",
      "Objective value at t=70 is 0.46696241827496116\n",
      "Objective value at t=71 is 0.46696230298014\n",
      "Objective value at t=72 is 0.466962202808241\n",
      "Objective value at t=73 is 0.4669621157566686\n",
      "Objective value at t=74 is 0.46696204009083453\n",
      "Objective value at t=75 is 0.4669619743078652\n",
      "Objective value at t=76 is 0.46696191710529006\n",
      "Objective value at t=77 is 0.4669618673540143\n",
      "Objective value at t=78 is 0.466961824074984\n",
      "Objective value at t=79 is 0.46696178641902947\n",
      "Objective value at t=80 is 0.4669617536494509\n",
      "Objective value at t=81 is 0.4669617251269646\n",
      "Objective value at t=82 is 0.4669617002966891\n",
      "Objective value at t=83 is 0.46696167867688876\n",
      "Objective value at t=84 is 0.46696165984923593\n",
      "Objective value at t=85 is 0.46696164345038327\n",
      "Objective value at t=86 is 0.4669616291646685\n",
      "Objective value at t=87 is 0.4669616167177971\n",
      "Objective value at t=88 is 0.4669616058713717\n",
      "Objective value at t=89 is 0.46696159641815016\n",
      "Objective value at t=90 is 0.46696158817793865\n",
      "Objective value at t=91 is 0.4669615809940301\n",
      "Objective value at t=92 is 0.4669615747301163\n",
      "Objective value at t=93 is 0.46696156926761034\n",
      "Objective value at t=94 is 0.46696156450332343\n",
      "Objective value at t=95 is 0.46696156034744873\n",
      "Objective value at t=96 is 0.46696155672181267\n",
      "Objective value at t=97 is 0.46696155355835534\n",
      "Objective value at t=98 is 0.46696155079781276\n",
      "Objective value at t=99 is 0.4669615483885705\n"
     ]
    }
   ],
   "source": [
    "lam = 1E-6\n",
    "stepsize = 1.0\n",
    "w, objvals_gd = grad_descent(x_train, y_train, lam, stepsize)"
   ]
  },
  {
   "cell_type": "markdown",
   "metadata": {},
   "source": [
    "## 3.2. Stochastic gradient descent (SGD)\n",
    "\n",
    "Define $Q_i (w) = \\log \\Big( 1 + \\exp \\big( - y_i x_i^T w \\big) \\Big) + \\frac{\\lambda}{2} \\| w \\|_2^2 $.\n",
    "\n",
    "The stochastic gradient at $w$ is $g_i = \\frac{\\partial Q_i }{ \\partial w} = -\\frac{y_i x_i }{1 + \\exp ( y_i x_i^T w)} + \\lambda w$."
   ]
  },
  {
   "cell_type": "code",
   "execution_count": 10,
   "metadata": {},
   "outputs": [],
   "source": [
    "# Calculate the objective Q_i and the gradient of Q_i\n",
    "# Inputs:\n",
    "#     w: d-by-1 matrix\n",
    "#     xi: 1-by-d matrix\n",
    "#     yi: scalar\n",
    "#     lam: scalar, the regularization parameter\n",
    "# Return:\n",
    "#     obj: scalar, the objective Q_i\n",
    "#     g: d-by-1 matrix, gradient of Q_i\n",
    "def stochastic_objective_gradient(w, xi, yi, lam):\n",
    "    d = xi.shape[0]\n",
    "    yx = yi * xi # 1-by-d matrix\n",
    "    yxw = float(numpy.dot(yx, w)) # scalar\n",
    "    \n",
    "    # calculate objective function Q_i\n",
    "    loss = numpy.log(1 + numpy.exp(-yxw)) # scalar\n",
    "    reg = lam / 2 * numpy.sum(w * w) # scalar\n",
    "    obj = loss + reg\n",
    "    \n",
    "    # calculate stochastic gradient\n",
    "    g_loss = -yx.T / (1 + numpy.exp(yxw)) # d-by-1 matrix\n",
    "    g = g_loss + lam * w # d-by-1 matrix\n",
    "    \n",
    "    return obj, g"
   ]
  },
  {
   "cell_type": "code",
   "execution_count": 11,
   "metadata": {},
   "outputs": [],
   "source": [
    "# SGD for solving logistic regression\n",
    "# Inputs:\n",
    "#     x: n-by-d matrix\n",
    "#     y: n-by-1 matrix\n",
    "#     lam: scalar, the regularization parameter\n",
    "#     stepsize: scalar\n",
    "#     max_epoch: integer, the maximal epochs\n",
    "#     w: d-by-1 matrix, initialization of w\n",
    "# Return:\n",
    "#     w: the solution\n",
    "#     objvals: record of each iteration's objective value\n",
    "def sgd(x, y, lam, stepsize, max_epoch=100, w=None):\n",
    "    n, d = x.shape\n",
    "    objvals = numpy.zeros(max_epoch) # store the objective values\n",
    "    if w is None:\n",
    "        w = numpy.zeros((d, 1)) # zero initialization\n",
    "    \n",
    "    for t in range(max_epoch):\n",
    "        # randomly shuffle the samples\n",
    "        rand_indices = numpy.random.permutation(n)\n",
    "        x_rand = x[rand_indices, :]\n",
    "        y_rand = y[rand_indices, :]\n",
    "        \n",
    "        objval = 0 # accumulate the objective values\n",
    "        for i in range(n):\n",
    "            xi = x_rand[i, :] # 1-by-d matrix\n",
    "            yi = float(y_rand[i, :]) # scalar\n",
    "            obj, g = stochastic_objective_gradient(w, xi, yi, lam)\n",
    "            objval += obj\n",
    "            w -= stepsize * g\n",
    "        \n",
    "        stepsize *= 0.9 # decrease step size\n",
    "        objval /= n\n",
    "        objvals[t] = objval\n",
    "        print('Objective value at epoch t=' + str(t) + ' is ' + str(objval))\n",
    "    \n",
    "    return w, objvals"
   ]
  },
  {
   "cell_type": "markdown",
   "metadata": {},
   "source": [
    "Run SGD."
   ]
  },
  {
   "cell_type": "code",
   "execution_count": 12,
   "metadata": {},
   "outputs": [
    {
     "name": "stdout",
     "output_type": "stream",
     "text": [
      "Objective value at epoch t=0 is 0.5152298810420933\n",
      "Objective value at epoch t=1 is 0.5118696115459355\n",
      "Objective value at epoch t=2 is 0.5209439603481256\n",
      "Objective value at epoch t=3 is 0.504677236030237\n",
      "Objective value at epoch t=4 is 0.500702542808097\n",
      "Objective value at epoch t=5 is 0.4957999354592711\n",
      "Objective value at epoch t=6 is 0.4927739381223969\n",
      "Objective value at epoch t=7 is 0.49516962428251815\n",
      "Objective value at epoch t=8 is 0.4905609241212237\n",
      "Objective value at epoch t=9 is 0.49180070218006905\n",
      "Objective value at epoch t=10 is 0.48240949639103875\n",
      "Objective value at epoch t=11 is 0.488838445145547\n",
      "Objective value at epoch t=12 is 0.48606065910930835\n",
      "Objective value at epoch t=13 is 0.4810743684681721\n",
      "Objective value at epoch t=14 is 0.4823070550214153\n",
      "Objective value at epoch t=15 is 0.4789282972905557\n",
      "Objective value at epoch t=16 is 0.47849379207019693\n",
      "Objective value at epoch t=17 is 0.4782022333781513\n",
      "Objective value at epoch t=18 is 0.4757692602419866\n",
      "Objective value at epoch t=19 is 0.4759761203961042\n",
      "Objective value at epoch t=20 is 0.4753619796056555\n",
      "Objective value at epoch t=21 is 0.47434890805248636\n",
      "Objective value at epoch t=22 is 0.4735486558764638\n",
      "Objective value at epoch t=23 is 0.4727226939007495\n",
      "Objective value at epoch t=24 is 0.4725905459665289\n",
      "Objective value at epoch t=25 is 0.4721801722289799\n",
      "Objective value at epoch t=26 is 0.4716046354204588\n",
      "Objective value at epoch t=27 is 0.4703136524922914\n",
      "Objective value at epoch t=28 is 0.470687779166093\n",
      "Objective value at epoch t=29 is 0.4700879421665284\n",
      "Objective value at epoch t=30 is 0.4699466225686966\n",
      "Objective value at epoch t=31 is 0.46971360589284733\n",
      "Objective value at epoch t=32 is 0.4694005979510978\n",
      "Objective value at epoch t=33 is 0.4691590798441396\n",
      "Objective value at epoch t=34 is 0.4689459591730694\n",
      "Objective value at epoch t=35 is 0.4687891103630137\n",
      "Objective value at epoch t=36 is 0.4685892958962305\n",
      "Objective value at epoch t=37 is 0.468409336497829\n",
      "Objective value at epoch t=38 is 0.46826127538985096\n",
      "Objective value at epoch t=39 is 0.46814554724383955\n",
      "Objective value at epoch t=40 is 0.46803631594552497\n",
      "Objective value at epoch t=41 is 0.4679567280737844\n",
      "Objective value at epoch t=42 is 0.4678447535810787\n",
      "Objective value at epoch t=43 is 0.4677688648911871\n",
      "Objective value at epoch t=44 is 0.4676865973818624\n",
      "Objective value at epoch t=45 is 0.46761345191895637\n",
      "Objective value at epoch t=46 is 0.46754560834726594\n",
      "Objective value at epoch t=47 is 0.4674896528298559\n",
      "Objective value at epoch t=48 is 0.46743983616163237\n",
      "Objective value at epoch t=49 is 0.4673889893053218\n",
      "Objective value at epoch t=50 is 0.4673455020184048\n",
      "Objective value at epoch t=51 is 0.4673101783321161\n",
      "Objective value at epoch t=52 is 0.4672747018810396\n",
      "Objective value at epoch t=53 is 0.46724293574874515\n",
      "Objective value at epoch t=54 is 0.46721496171879606\n",
      "Objective value at epoch t=55 is 0.46718909539275255\n",
      "Objective value at epoch t=56 is 0.4671674727881888\n",
      "Objective value at epoch t=57 is 0.46714648341815224\n",
      "Objective value at epoch t=58 is 0.4671284684414608\n",
      "Objective value at epoch t=59 is 0.46711151301778975\n",
      "Objective value at epoch t=60 is 0.4670969687170096\n",
      "Objective value at epoch t=61 is 0.46708325046387084\n",
      "Objective value at epoch t=62 is 0.4670708411202115\n",
      "Objective value at epoch t=63 is 0.4670602713601263\n",
      "Objective value at epoch t=64 is 0.46705044284300257\n",
      "Objective value at epoch t=65 is 0.46704157148175074\n",
      "Objective value at epoch t=66 is 0.46703359087449653\n",
      "Objective value at epoch t=67 is 0.4670262239492682\n",
      "Objective value at epoch t=68 is 0.4670197817298731\n",
      "Objective value at epoch t=69 is 0.46701409209790834\n",
      "Objective value at epoch t=70 is 0.4670088359882807\n",
      "Objective value at epoch t=71 is 0.46700408770428564\n",
      "Objective value at epoch t=72 is 0.4669998752907715\n",
      "Objective value at epoch t=73 is 0.46699604179226384\n",
      "Objective value at epoch t=74 is 0.46699260577039475\n",
      "Objective value at epoch t=75 is 0.4669895044132719\n",
      "Objective value at epoch t=76 is 0.4669867182402621\n",
      "Objective value at epoch t=77 is 0.4669842086139959\n",
      "Objective value at epoch t=78 is 0.4669819269032346\n",
      "Objective value at epoch t=79 is 0.4669799166677849\n",
      "Objective value at epoch t=80 is 0.4669780881447654\n",
      "Objective value at epoch t=81 is 0.46697644498385865\n",
      "Objective value at epoch t=82 is 0.46697496013247725\n",
      "Objective value at epoch t=83 is 0.4669736271548638\n",
      "Objective value at epoch t=84 is 0.46697242804520067\n",
      "Objective value at epoch t=85 is 0.46697134500744897\n",
      "Objective value at epoch t=86 is 0.466970373753114\n",
      "Objective value at epoch t=87 is 0.46696949828638595\n",
      "Objective value at epoch t=88 is 0.4669687104128827\n",
      "Objective value at epoch t=89 is 0.4669680001866765\n",
      "Objective value at epoch t=90 is 0.4669673616342644\n",
      "Objective value at epoch t=91 is 0.4669667892380275\n",
      "Objective value at epoch t=92 is 0.46696627246121236\n",
      "Objective value at epoch t=93 is 0.46696580686484374\n",
      "Objective value at epoch t=94 is 0.4669653882756807\n",
      "Objective value at epoch t=95 is 0.4669650114371858\n",
      "Objective value at epoch t=96 is 0.46696467217620274\n",
      "Objective value at epoch t=97 is 0.4669643667822282\n",
      "Objective value at epoch t=98 is 0.466964092029354\n",
      "Objective value at epoch t=99 is 0.4669638448710435\n"
     ]
    }
   ],
   "source": [
    "lam = 1E-6\n",
    "stepsize = 0.1\n",
    "w, objvals_sgd = sgd(x_train, y_train, lam, stepsize)"
   ]
  },
  {
   "cell_type": "markdown",
   "metadata": {},
   "source": [
    "# 4. Compare GD with SGD\n",
    "\n",
    "Plot objective function values against epochs."
   ]
  },
  {
   "cell_type": "code",
   "execution_count": 13,
   "metadata": {},
   "outputs": [
    {
     "data": {
      "image/png": "[encoded data removed]",
      "text/plain": [
       "<Figure size 432x288 with 1 Axes>"
      ]
     },
     "metadata": {
      "needs_background": "light"
     },
     "output_type": "display_data"
    }
   ],
   "source": [
    "import matplotlib.pyplot as plt\n",
    "%matplotlib inline\n",
    "\n",
    "fig = plt.figure(figsize=(6, 4))\n",
    "\n",
    "epochs_gd = range(len(objvals_gd))\n",
    "epochs_sgd = range(len(objvals_sgd))\n",
    "\n",
    "line0, = plt.plot(epochs_gd, objvals_gd, '--b', LineWidth=4)\n",
    "line1, = plt.plot(epochs_sgd, objvals_sgd, '-r', LineWidth=2)\n",
    "plt.xlabel('Epochs', FontSize=20)\n",
    "plt.ylabel('Objective Value', FontSize=20)\n",
    "plt.xticks(FontSize=16)\n",
    "plt.yticks(FontSize=16)\n",
    "plt.legend([line0, line1], ['GD', 'SGD'], fontsize=20)\n",
    "plt.tight_layout()\n",
    "plt.show()\n",
    "fig.savefig('compare_gd_sgd.pdf', format='pdf', dpi=1200)"
   ]
  },
  {
   "cell_type": "markdown",
   "metadata": {},
   "source": [
    "# 5. Prediction"
   ]
  },
  {
   "cell_type": "code",
   "execution_count": 14,
   "metadata": {},
   "outputs": [],
   "source": [
    "# Predict class label\n",
    "# Inputs:\n",
    "#     w: d-by-1 matrix\n",
    "#     X: m-by-d matrix\n",
    "# Return:\n",
    "#     f: m-by-1 matrix, the predictions\n",
    "def predict(w, X):\n",
    "    xw = numpy.dot(X, w)\n",
    "    f = numpy.sign(xw)\n",
    "    return f"
   ]
  },
  {
   "cell_type": "code",
   "execution_count": 15,
   "metadata": {},
   "outputs": [
    {
     "name": "stdout",
     "output_type": "stream",
     "text": [
      "Training classification error is 0.2109375\n"
     ]
    }
   ],
   "source": [
    "# evaluate training error\n",
    "f_train = predict(w, x_train)\n",
    "diff = numpy.abs(f_train - y_train) / 2\n",
    "error_train = numpy.mean(diff)\n",
    "print('Training classification error is ' + str(error_train))"
   ]
  },
  {
   "cell_type": "code",
   "execution_count": 16,
   "metadata": {},
   "outputs": [
    {
     "name": "stdout",
     "output_type": "stream",
     "text": [
      "Test classification error is 0.25\n"
     ]
    }
   ],
   "source": [
    "# evaluate test error\n",
    "f_test = predict(w, x_test)\n",
    "diff = numpy.abs(f_test - y_test) / 2\n",
    "error_test = numpy.mean(diff)\n",
    "print('Test classification error is ' + str(error_test))"
   ]
  },
  {
   "cell_type": "markdown",
   "metadata": {},
   "source": [
    "# 6. Mini-batch SGD (fill the code)\n",
    "\n"
   ]
  },
  {
   "cell_type": "markdown",
   "metadata": {},
   "source": [
    "## 6.1. Compute the objective $Q_I$ and its gradient using a batch of samples\n",
    "\n",
    "Define $Q_I (w) = \\frac{1}{b} \\sum_{i \\in I} \\log \\Big( 1 + \\exp \\big( - y_i x_i^T w \\big) \\Big) + \\frac{\\lambda}{2} \\| w \\|_2^2 $, where $I$ is a set containing $b$ indices randomly drawn from $\\{ 1, \\cdots , n \\}$ without replacement.\n",
    "\n",
    "The stochastic gradient at $w$ is $g_I = \\frac{\\partial Q_I }{ \\partial w} = \\frac{1}{b} \\sum_{i \\in I} \\frac{- y_i x_i }{1 + \\exp ( y_i x_i^T w)} + \\lambda w$."
   ]
  },
  {
   "cell_type": "code",
   "execution_count": 17,
   "metadata": {},
   "outputs": [],
   "source": [
    "# Calculate the objective Q_I and the gradient of Q_I\n",
    "# Inputs:\n",
    "#     w: d-by-1 matrix\n",
    "#     xi: b-by-d matrix\n",
    "#     yi: b-by-1 matrix\n",
    "#     lam: scalar, the regularization parameter\n",
    "#     b: integer, the batch size\n",
    "# Return:\n",
    "#     obj: scalar, the objective Q_i\n",
    "#     g: d-by-1 matrix, gradient of Q_i\n",
    "def mb_stochastic_objective_gradient(w, xi, yi, lam, b):\n",
    "    # Fill the function\n",
    "    # Follow the implementation of stochastic_objective_gradient\n",
    "    # Use matrix-vector multiplication; do not use FOR LOOP of vector-vector multiplications\n",
    "    n, d = xi.shape\n",
    "    yx = numpy.multiply(yi,xi) \n",
    "    yxw = numpy.dot(yx, w)\n",
    "    \n",
    "    # calculate objective function Q_i\n",
    "    loss = numpy.log(1 + numpy.exp(-yxw))\n",
    "    reg = lam / 2 * numpy.sum(w * w) \n",
    "    obj = numpy.mean(loss) + reg\n",
    "    \n",
    "    # calculate mini batch stochastic gradient\n",
    "    g_loss = -numpy.divide(yx, 1 + numpy.exp(yxw)) \n",
    "    g = numpy.mean(g_loss, axis=0).reshape(d,1) + lam * w \n",
    "    \n",
    "    return obj, g"
   ]
  },
  {
   "cell_type": "markdown",
   "metadata": {},
   "source": [
    "## 6.2. Implement mini-batch SGD\n",
    "\n",
    "Hints:\n",
    "1. In every epoch, randomly permute the $n$ samples (just like SGD).\n",
    "2. Each epoch has $\\frac{n}{b}$ iterations. In every iteration, use $b$ samples, and compute the gradient and objective using the ``mb_stochastic_objective_gradient`` function. In the next iteration, use the next $b$ samples, and so on.\n"
   ]
  },
  {
   "cell_type": "code",
   "execution_count": 18,
   "metadata": {},
   "outputs": [],
   "source": [
    "# Mini-Batch SGD for solving logistic regression\n",
    "# Inputs:\n",
    "#     x: n-by-d matrix\n",
    "#     y: n-by-1 matrix\n",
    "#     lam: scalar, the regularization parameter\n",
    "#     b: integer, the batch size\n",
    "#     stepsize: scalar\n",
    "#     max_epoch: integer, the maximal epochs\n",
    "#     w: d-by-1 matrix, initialization of w\n",
    "# Return:\n",
    "#     w: the solution\n",
    "#     objvals: record of each iteration's objective value\n",
    "def minibatch_gradient_descent(x, y, lam, b, stepsize, max_epoch=100, w=None):\n",
    "    # Fill the function\n",
    "    # Follow the implementation of sgd\n",
    "    # Record one objective value per epoch (not per iteration!)\n",
    "    n, d = x.shape\n",
    "    objvals = numpy.zeros(max_epoch)\n",
    "    n_batches = round(n/b)\n",
    "    if w is None:\n",
    "        w = numpy.zeros((d, 1))\n",
    "    for t in range(max_epoch):\n",
    "        rand_indices = numpy.random.permutation(n)\n",
    "        x_rand = x[rand_indices, :]\n",
    "        y_rand = y[rand_indices, :]\n",
    "        \n",
    "        objval = 0 # accumulate the objective values\n",
    "        for i in range(0, n, b):\n",
    "            xi = x_rand[i:i+b, : ] #b-by-d matrix\n",
    "            yi = y_rand[i:i+b, : ] #b-by-1 \n",
    "            obj, g = mb_stochastic_objective_gradient(w, xi, yi, lam, b)\n",
    "            objval += obj\n",
    "            w -= stepsize * g\n",
    "        stepsize *= 0.9 # decrease step size\n",
    "        objval /= n_batches\n",
    "        objvals[t] = objval\n",
    "        print('Objective value at epoch t=' + str(t) + ' is ' + str(objval))\n",
    "    \n",
    "    return w, objvals"
   ]
  },
  {
   "cell_type": "markdown",
   "metadata": {},
   "source": [
    "## 6.3. Run MB-SGD"
   ]
  },
  {
   "cell_type": "code",
   "execution_count": 19,
   "metadata": {},
   "outputs": [
    {
     "name": "stdout",
     "output_type": "stream",
     "text": [
      "Objective value at epoch t=0 is 0.5430001744802724\n",
      "Objective value at epoch t=1 is 0.48355531358267473\n",
      "Objective value at epoch t=2 is 0.4772937195283415\n",
      "Objective value at epoch t=3 is 0.4739595053342799\n",
      "Objective value at epoch t=4 is 0.4726615858770679\n",
      "Objective value at epoch t=5 is 0.4724334614088234\n",
      "Objective value at epoch t=6 is 0.4714874702793699\n",
      "Objective value at epoch t=7 is 0.4710516563769702\n",
      "Objective value at epoch t=8 is 0.47011104494851325\n",
      "Objective value at epoch t=9 is 0.47020076424603047\n",
      "Objective value at epoch t=10 is 0.4704143993188342\n",
      "Objective value at epoch t=11 is 0.4698330326838541\n",
      "Objective value at epoch t=12 is 0.4694188900695118\n",
      "Objective value at epoch t=13 is 0.46932843657491163\n",
      "Objective value at epoch t=14 is 0.4690524274300311\n",
      "Objective value at epoch t=15 is 0.4688395209960471\n",
      "Objective value at epoch t=16 is 0.4687712364160858\n",
      "Objective value at epoch t=17 is 0.46849755457456344\n",
      "Objective value at epoch t=18 is 0.4683369539579056\n",
      "Objective value at epoch t=19 is 0.4682326792076458\n",
      "Objective value at epoch t=20 is 0.46800850346975753\n",
      "Objective value at epoch t=21 is 0.4680194520979767\n",
      "Objective value at epoch t=22 is 0.4678116915101371\n",
      "Objective value at epoch t=23 is 0.4677630817192294\n",
      "Objective value at epoch t=24 is 0.4677777584293999\n",
      "Objective value at epoch t=25 is 0.4676601722279286\n",
      "Objective value at epoch t=26 is 0.46754421341802976\n",
      "Objective value at epoch t=27 is 0.46749413094328657\n",
      "Objective value at epoch t=28 is 0.4674677761142262\n",
      "Objective value at epoch t=29 is 0.4673529975061131\n",
      "Objective value at epoch t=30 is 0.4673585740512002\n",
      "Objective value at epoch t=31 is 0.4673642347106262\n",
      "Objective value at epoch t=32 is 0.467266061386563\n",
      "Objective value at epoch t=33 is 0.4672697074077458\n",
      "Objective value at epoch t=34 is 0.46720872235425037\n",
      "Objective value at epoch t=35 is 0.4671843864853423\n",
      "Objective value at epoch t=36 is 0.4671594524968824\n",
      "Objective value at epoch t=37 is 0.4671498610368583\n",
      "Objective value at epoch t=38 is 0.46713674689267287\n",
      "Objective value at epoch t=39 is 0.46712422784547636\n",
      "Objective value at epoch t=40 is 0.46709293779658567\n",
      "Objective value at epoch t=41 is 0.46708790245218496\n",
      "Objective value at epoch t=42 is 0.4670786599301193\n",
      "Objective value at epoch t=43 is 0.4670642647053086\n",
      "Objective value at epoch t=44 is 0.46705791361547017\n",
      "Objective value at epoch t=45 is 0.46704444951289326\n",
      "Objective value at epoch t=46 is 0.46703422695263475\n",
      "Objective value at epoch t=47 is 0.46702730084086275\n",
      "Objective value at epoch t=48 is 0.4670238208923484\n",
      "Objective value at epoch t=49 is 0.46702000228932217\n",
      "Objective value at epoch t=50 is 0.4670135904448947\n",
      "Objective value at epoch t=51 is 0.46700253126483116\n",
      "Objective value at epoch t=52 is 0.4670027337556558\n",
      "Objective value at epoch t=53 is 0.4669994934310238\n",
      "Objective value at epoch t=54 is 0.4669934812552398\n",
      "Objective value at epoch t=55 is 0.4669901414213792\n",
      "Objective value at epoch t=56 is 0.4669899529683029\n",
      "Objective value at epoch t=57 is 0.46698390811445895\n",
      "Objective value at epoch t=58 is 0.46698141864094805\n",
      "Objective value at epoch t=59 is 0.4669807059480786\n",
      "Objective value at epoch t=60 is 0.4669788401091354\n",
      "Objective value at epoch t=61 is 0.466975927749765\n",
      "Objective value at epoch t=62 is 0.46697492452003697\n",
      "Objective value at epoch t=63 is 0.466973710399162\n",
      "Objective value at epoch t=64 is 0.466973995463768\n",
      "Objective value at epoch t=65 is 0.46697141243962814\n",
      "Objective value at epoch t=66 is 0.4669709161605602\n",
      "Objective value at epoch t=67 is 0.46697039455762857\n",
      "Objective value at epoch t=68 is 0.4669696750713103\n",
      "Objective value at epoch t=69 is 0.466969189658455\n",
      "Objective value at epoch t=70 is 0.4669676786761981\n",
      "Objective value at epoch t=71 is 0.46696716222750245\n",
      "Objective value at epoch t=72 is 0.4669673405931789\n",
      "Objective value at epoch t=73 is 0.466966272962608\n",
      "Objective value at epoch t=74 is 0.46696581541182847\n",
      "Objective value at epoch t=75 is 0.46696590423977336\n",
      "Objective value at epoch t=76 is 0.46696552164853805\n",
      "Objective value at epoch t=77 is 0.46696524753157853\n",
      "Objective value at epoch t=78 is 0.4669648004473267\n",
      "Objective value at epoch t=79 is 0.4669642862594315\n",
      "Objective value at epoch t=80 is 0.46696432664317256\n",
      "Objective value at epoch t=81 is 0.4669640057648617\n",
      "Objective value at epoch t=82 is 0.46696394850444206\n",
      "Objective value at epoch t=83 is 0.4669637152007515\n",
      "Objective value at epoch t=84 is 0.46696355714771\n",
      "Objective value at epoch t=85 is 0.46696344674344453\n",
      "Objective value at epoch t=86 is 0.4669634067400924\n",
      "Objective value at epoch t=87 is 0.46696322534215184\n",
      "Objective value at epoch t=88 is 0.46696318308525003\n",
      "Objective value at epoch t=89 is 0.46696298580955115\n",
      "Objective value at epoch t=90 is 0.4669628912919596\n",
      "Objective value at epoch t=91 is 0.46696292219648605\n",
      "Objective value at epoch t=92 is 0.46696279106510685\n",
      "Objective value at epoch t=93 is 0.46696275355349554\n",
      "Objective value at epoch t=94 is 0.4669627088288856\n",
      "Objective value at epoch t=95 is 0.46696263414157935\n",
      "Objective value at epoch t=96 is 0.4669626474095129\n",
      "Objective value at epoch t=97 is 0.46696260108661347\n",
      "Objective value at epoch t=98 is 0.4669625985810453\n",
      "Objective value at epoch t=99 is 0.46696249723940103\n"
     ]
    }
   ],
   "source": [
    "# MB-SGD with batch size b=8\n",
    "lam = 1E-6 # do not change\n",
    "b = 8 # do not change\n",
    "stepsize = 0.1 # you must tune this parameter\n",
    "\n",
    "w, objvals_mbsgd8 = minibatch_gradient_descent(x_train, y_train, lam, b, stepsize)"
   ]
  },
  {
   "cell_type": "code",
   "execution_count": 20,
   "metadata": {},
   "outputs": [
    {
     "name": "stdout",
     "output_type": "stream",
     "text": [
      "Objective value at epoch t=0 is 0.5980156677099304\n",
      "Objective value at epoch t=1 is 0.5145858838062796\n",
      "Objective value at epoch t=2 is 0.4930654953415069\n",
      "Objective value at epoch t=3 is 0.4834035440906047\n",
      "Objective value at epoch t=4 is 0.478171639248994\n",
      "Objective value at epoch t=5 is 0.4747582061095684\n",
      "Objective value at epoch t=6 is 0.4731486976718962\n",
      "Objective value at epoch t=7 is 0.47147544761925203\n",
      "Objective value at epoch t=8 is 0.4708457888092619\n",
      "Objective value at epoch t=9 is 0.470234553546511\n",
      "Objective value at epoch t=10 is 0.47026716208718\n",
      "Objective value at epoch t=11 is 0.4696129698130321\n",
      "Objective value at epoch t=12 is 0.46930443602292726\n",
      "Objective value at epoch t=13 is 0.46895219308222924\n",
      "Objective value at epoch t=14 is 0.4685917874035569\n",
      "Objective value at epoch t=15 is 0.46868696960660206\n",
      "Objective value at epoch t=16 is 0.46844526861558783\n",
      "Objective value at epoch t=17 is 0.46822639892219337\n",
      "Objective value at epoch t=18 is 0.4680983452764832\n",
      "Objective value at epoch t=19 is 0.4680803781039334\n",
      "Objective value at epoch t=20 is 0.4679361342765603\n",
      "Objective value at epoch t=21 is 0.4679489897132501\n",
      "Objective value at epoch t=22 is 0.4678184483580492\n",
      "Objective value at epoch t=23 is 0.46779634110810353\n",
      "Objective value at epoch t=24 is 0.4677620109323769\n",
      "Objective value at epoch t=25 is 0.46771388191474195\n",
      "Objective value at epoch t=26 is 0.4677180552042251\n",
      "Objective value at epoch t=27 is 0.46762407160494146\n",
      "Objective value at epoch t=28 is 0.4676190852757238\n",
      "Objective value at epoch t=29 is 0.46758568751329\n",
      "Objective value at epoch t=30 is 0.46751983375104106\n",
      "Objective value at epoch t=31 is 0.46756866424599186\n",
      "Objective value at epoch t=32 is 0.46750044725912343\n",
      "Objective value at epoch t=33 is 0.4675183093623616\n",
      "Objective value at epoch t=34 is 0.4674685386397487\n",
      "Objective value at epoch t=35 is 0.46745036273350493\n",
      "Objective value at epoch t=36 is 0.4674418864245508\n",
      "Objective value at epoch t=37 is 0.4674362545381978\n",
      "Objective value at epoch t=38 is 0.4674218904844052\n",
      "Objective value at epoch t=39 is 0.46740387723976456\n",
      "Objective value at epoch t=40 is 0.46740459157361114\n",
      "Objective value at epoch t=41 is 0.4673866293093198\n",
      "Objective value at epoch t=42 is 0.4673954209195764\n",
      "Objective value at epoch t=43 is 0.4673779300528186\n",
      "Objective value at epoch t=44 is 0.4673864545831852\n",
      "Objective value at epoch t=45 is 0.4673779834665404\n",
      "Objective value at epoch t=46 is 0.46737953016899436\n",
      "Objective value at epoch t=47 is 0.4673723813136098\n",
      "Objective value at epoch t=48 is 0.4673665215418227\n",
      "Objective value at epoch t=49 is 0.46735408617727076\n",
      "Objective value at epoch t=50 is 0.46735349293735745\n",
      "Objective value at epoch t=51 is 0.46735584612682624\n",
      "Objective value at epoch t=52 is 0.467350926946476\n",
      "Objective value at epoch t=53 is 0.46735220120810494\n",
      "Objective value at epoch t=54 is 0.46734559726034314\n",
      "Objective value at epoch t=55 is 0.46735079813779346\n",
      "Objective value at epoch t=56 is 0.4673459847509185\n",
      "Objective value at epoch t=57 is 0.4673446058908001\n",
      "Objective value at epoch t=58 is 0.46734164703927894\n",
      "Objective value at epoch t=59 is 0.4673419136526126\n",
      "Objective value at epoch t=60 is 0.4673421305986928\n",
      "Objective value at epoch t=61 is 0.4673419211298536\n",
      "Objective value at epoch t=62 is 0.46734001602408703\n",
      "Objective value at epoch t=63 is 0.4673394847681884\n",
      "Objective value at epoch t=64 is 0.46733899470782847\n",
      "Objective value at epoch t=65 is 0.4673390498870963\n",
      "Objective value at epoch t=66 is 0.46733736336649534\n",
      "Objective value at epoch t=67 is 0.46733712211772327\n",
      "Objective value at epoch t=68 is 0.46733678052943856\n",
      "Objective value at epoch t=69 is 0.467337122018888\n",
      "Objective value at epoch t=70 is 0.4673360156881586\n",
      "Objective value at epoch t=71 is 0.46733640283600525\n",
      "Objective value at epoch t=72 is 0.4673356241513401\n",
      "Objective value at epoch t=73 is 0.46733572727397477\n",
      "Objective value at epoch t=74 is 0.46733499771121256\n",
      "Objective value at epoch t=75 is 0.46733447917588994\n",
      "Objective value at epoch t=76 is 0.4673349378527812\n",
      "Objective value at epoch t=77 is 0.46733451208596727\n",
      "Objective value at epoch t=78 is 0.46733424546033075\n",
      "Objective value at epoch t=79 is 0.46733419114053165\n",
      "Objective value at epoch t=80 is 0.4673339955276644\n",
      "Objective value at epoch t=81 is 0.46733384604995826\n",
      "Objective value at epoch t=82 is 0.4673337579991174\n",
      "Objective value at epoch t=83 is 0.4673338253558564\n",
      "Objective value at epoch t=84 is 0.4673336247089229\n",
      "Objective value at epoch t=85 is 0.4673336159004882\n",
      "Objective value at epoch t=86 is 0.46733347979439027\n",
      "Objective value at epoch t=87 is 0.4673335187940671\n",
      "Objective value at epoch t=88 is 0.4673334801959781\n",
      "Objective value at epoch t=89 is 0.46733340813532653\n",
      "Objective value at epoch t=90 is 0.46733330871882706\n",
      "Objective value at epoch t=91 is 0.4673333060455896\n",
      "Objective value at epoch t=92 is 0.46733325710440876\n",
      "Objective value at epoch t=93 is 0.4673332521450514\n",
      "Objective value at epoch t=94 is 0.4673332360650345\n",
      "Objective value at epoch t=95 is 0.46733320920391075\n",
      "Objective value at epoch t=96 is 0.46733317270362706\n",
      "Objective value at epoch t=97 is 0.46733312183926606\n",
      "Objective value at epoch t=98 is 0.46733312098464214\n",
      "Objective value at epoch t=99 is 0.46733312103804303\n"
     ]
    }
   ],
   "source": [
    "# MB-SGD with batch size b=64\n",
    "lam = 1E-6 # do not change\n",
    "b = 64 # do not change\n",
    "stepsize = 0.3 # you must tune this parameter\n",
    "\n",
    "w, objvals_mbsgd64 = minibatch_gradient_descent(x_train, y_train, lam, b, stepsize)"
   ]
  },
  {
   "cell_type": "markdown",
   "metadata": {},
   "source": [
    "# 7. Plot and compare GD, SGD, and MB-SGD"
   ]
  },
  {
   "cell_type": "markdown",
   "metadata": {},
   "source": [
    "You are required to compare the following algorithms:\n",
    "\n",
    "- Gradient descent (GD)\n",
    "\n",
    "- SGD\n",
    "\n",
    "- MB-SGD with b=8\n",
    "\n",
    "- MB-SGD with b=64\n",
    "\n",
    "Follow the code in Section 4 to plot ```objective function value``` against ```epochs```. There should be four curves in the plot; each curve corresponds to one algorithm."
   ]
  },
  {
   "cell_type": "markdown",
   "metadata": {},
   "source": [
    "Hint: Logistic regression with $\\ell_2$-norm regularization is a strongly convex optimization problem. All the algorithms will converge to the same solution. **In the end, the ``objective function value`` of the 4 algorithms will be the same. If not the same, your implementation must be wrong. Do NOT submit wrong code and wrong result!**"
   ]
  },
  {
   "cell_type": "code",
   "execution_count": 21,
   "metadata": {},
   "outputs": [
    {
     "data": {
      "image/png": "[encoded data removed]",
      "text/plain": [
       "<Figure size 432x288 with 1 Axes>"
      ]
     },
     "metadata": {
      "needs_background": "light"
     },
     "output_type": "display_data"
    }
   ],
   "source": [
    "# plot the 4 curves:\n",
    "fig = plt.figure(figsize=(6, 4))\n",
    "epochs_gd = range(len(objvals_gd))\n",
    "epochs_sgd = range(len(objvals_sgd))\n",
    "epochs_mbsgd8 = range(len(objvals_mbsgd8))\n",
    "epochs_mbsgd64 = range(len(objvals_mbsgd64))\n",
    "line0, = plt.plot(epochs_gd, objvals_gd, '--b', LineWidth=2)\n",
    "line1, = plt.plot(epochs_sgd, objvals_sgd, '--r', LineWidth=2)\n",
    "line2, = plt.plot(epochs_mbsgd8, objvals_mbsgd8, '-y', LineWidth=2)\n",
    "line3, = plt.plot(epochs_mbsgd8, objvals_mbsgd64, '-g', LineWidth=2)\n",
    "\n",
    "plt.xlabel('Epochs', FontSize=20)\n",
    "plt.ylabel('Objective Value', FontSize=20)\n",
    "plt.xticks(FontSize=16)\n",
    "plt.yticks(FontSize=16)\n",
    "plt.legend([line0, line1, line2, line3], ['GD', 'SGD', 'MB-SGD8', 'MB-SGD64'], fontsize=20)\n",
    "plt.tight_layout()\n",
    "plt.show()\n",
    "fig.savefig('compare_gd_sgd_MBsgd.pdf', format='pdf', dpi=1200)"
   ]
  },
  {
   "cell_type": "markdown",
   "metadata": {},
   "source": []
  },
  {
   "cell_type": "code",
   "execution_count": null,
   "metadata": {},
   "outputs": [],
   "source": []
  }
 ],
 "metadata": {
  "kernelspec": {
   "display_name": "Python 3",
   "language": "python",
   "name": "python3"
  },
  "language_info": {
   "codemirror_mode": {
    "name": "ipython",
    "version": 3
   },
   "file_extension": ".py",
   "mimetype": "text/x-python",
   "name": "python",
   "nbconvert_exporter": "python",
   "pygments_lexer": "ipython3",
   "version": "3.7.3"
  }
 },
 "nbformat": 4,
 "nbformat_minor": 2
}
