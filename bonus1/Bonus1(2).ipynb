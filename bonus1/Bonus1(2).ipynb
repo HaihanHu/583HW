{
 "cells": [
  {
   "cell_type": "markdown",
   "metadata": {},
   "source": [
    "# Bonus1: Parallel Algorithms\n",
    "\n",
    "### Name: [Haihan Hu]\n"
   ]
  },
  {
   "cell_type": "markdown",
   "metadata": {},
   "source": [
    "## 0. You will do the following:\n",
    "\n",
    "1. Read the lecture note: [click here](https://github.com/wangshusen/DeepLearning/blob/master/LectureNotes/Parallel/Parallel.pdf)\n",
    "\n",
    "2. Implement federated averaging or decentralized optimization.\n",
    "\n",
    "3. Plot the convergence curve. (The x-axis can be ```number of epochs``` or ```number of communication```. You must make sure the label is correct.)\n",
    "\n",
    "4. Convert the .IPYNB file to .HTML file.\n",
    "\n",
    "    * The HTML file must contain **the code** and **the output after execution**.\n",
    "    \n",
    "5. Upload this .HTML file to your Google Drive, Dropbox, or your Github repo. (If it is submitted to Google Drive or Dropbox, you must make the file open-access.)\n",
    "\n",
    "6. Submit the link to this .HTML file to Canvas.\n",
    "\n",
    "    * Example: https://github.com/wangshusen/CS583-2020S/blob/master/homework/Bonus1/Bonus1.html\n",
    "\n"
   ]
  },
  {
   "cell_type": "code",
   "execution_count": null,
   "metadata": {},
   "outputs": [],
   "source": []
  },
  {
   "cell_type": "markdown",
   "metadata": {},
   "source": [
    "# 1. Data processing\n",
    "\n",
    "- Download the Diabete dataset from https://www.csie.ntu.edu.tw/~cjlin/libsvmtools/datasets/binary/diabetes\n",
    "- Load the data using sklearn.\n",
    "- Preprocess the data."
   ]
  },
  {
   "cell_type": "markdown",
   "metadata": {},
   "source": [
    "## 1.1. Load the data"
   ]
  },
  {
   "cell_type": "code",
   "execution_count": 1,
   "metadata": {},
   "outputs": [
    {
     "name": "stdout",
     "output_type": "stream",
     "text": [
      "Shape of x: (768, 8)\n",
      "Shape of y: (768,)\n"
     ]
    }
   ],
   "source": [
    "from sklearn import datasets\n",
    "import numpy\n",
    "\n",
    "x_sparse, y = datasets.load_svmlight_file('/Users/shirleyhu/Documents/GitHub/CS583-2020S/homework/Bonus1/diabetes')\n",
    "x = x_sparse.todense()\n",
    "\n",
    "print('Shape of x: ' + str(x.shape))\n",
    "print('Shape of y: ' + str(y.shape))"
   ]
  },
  {
   "cell_type": "markdown",
   "metadata": {},
   "source": [
    "## 1.2. Partition to training and test sets"
   ]
  },
  {
   "cell_type": "code",
   "execution_count": 2,
   "metadata": {},
   "outputs": [
    {
     "name": "stdout",
     "output_type": "stream",
     "text": [
      "Shape of x_train: (640, 8)\n",
      "Shape of x_test: (128, 8)\n",
      "Shape of y_train: (640, 1)\n",
      "Shape of y_test: (128, 1)\n"
     ]
    }
   ],
   "source": [
    "# partition the data to training and test sets\n",
    "n = x.shape[0]\n",
    "n_train = 640\n",
    "n_test = n - n_train\n",
    "\n",
    "rand_indices = numpy.random.permutation(n)\n",
    "train_indices = rand_indices[0:n_train]\n",
    "test_indices = rand_indices[n_train:n]\n",
    "\n",
    "x_train = x[train_indices, :]\n",
    "x_test = x[test_indices, :]\n",
    "y_train = y[train_indices].reshape(n_train, 1)\n",
    "y_test = y[test_indices].reshape(n_test, 1)\n",
    "\n",
    "print('Shape of x_train: ' + str(x_train.shape))\n",
    "print('Shape of x_test: ' + str(x_test.shape))\n",
    "print('Shape of y_train: ' + str(y_train.shape))\n",
    "print('Shape of y_test: ' + str(y_test.shape))"
   ]
  },
  {
   "cell_type": "markdown",
   "metadata": {},
   "source": [
    "## 1.3. Feature scaling"
   ]
  },
  {
   "cell_type": "markdown",
   "metadata": {},
   "source": [
    "Use the standardization to trainsform both training and test features"
   ]
  },
  {
   "cell_type": "code",
   "execution_count": 3,
   "metadata": {},
   "outputs": [
    {
     "name": "stdout",
     "output_type": "stream",
     "text": [
      "test mean = \n",
      "[[ 0.09203579  0.11798655  0.15407154 -0.03566845  0.00191325  0.03096073\n",
      "  -0.02264842  0.00974766]]\n",
      "test std = \n",
      "[[1.03700466 1.06240542 0.81732097 0.99810084 0.95793568 0.94586562\n",
      "  0.82413056 1.02585615]]\n"
     ]
    }
   ],
   "source": [
    "# Standardization\n",
    "import numpy\n",
    "\n",
    "# calculate mu and sig using the training set\n",
    "d = x_train.shape[1]\n",
    "mu = numpy.mean(x_train, axis=0).reshape(1, d)\n",
    "sig = numpy.std(x_train, axis=0).reshape(1, d)\n",
    "\n",
    "# transform the training features\n",
    "x_train = (x_train - mu) / (sig + 1E-6)\n",
    "\n",
    "# transform the test features\n",
    "x_test = (x_test - mu) / (sig + 1E-6)\n",
    "\n",
    "print('test mean = ')\n",
    "print(numpy.mean(x_test, axis=0))\n",
    "\n",
    "print('test std = ')\n",
    "print(numpy.std(x_test, axis=0))"
   ]
  },
  {
   "cell_type": "markdown",
   "metadata": {},
   "source": [
    "## 1.4. Add a dimension of all ones"
   ]
  },
  {
   "cell_type": "code",
   "execution_count": 4,
   "metadata": {},
   "outputs": [
    {
     "name": "stdout",
     "output_type": "stream",
     "text": [
      "Shape of x_train: (640, 9)\n",
      "Shape of x_test: (128, 9)\n"
     ]
    }
   ],
   "source": [
    "n_train, d = x_train.shape\n",
    "x_train = numpy.concatenate((x_train, numpy.ones((n_train, 1))), axis=1)\n",
    "\n",
    "n_test, d = x_test.shape\n",
    "x_test = numpy.concatenate((x_test, numpy.ones((n_test, 1))), axis=1)\n",
    "\n",
    "print('Shape of x_train: ' + str(x_train.shape))\n",
    "print('Shape of x_test: ' + str(x_test.shape))"
   ]
  },
  {
   "cell_type": "markdown",
   "metadata": {},
   "source": [
    "## 2. Design worker nodes and the server"
   ]
  },
  {
   "cell_type": "code",
   "execution_count": 29,
   "metadata": {},
   "outputs": [],
   "source": [
    "def objective(w, x, y, lam):\n",
    "    n, d = x.shape\n",
    "    yx = numpy.multiply(y, x)\n",
    "    yxw = numpy.dot(yx, w)\n",
    "    vec1 = numpy.exp(-yxw)\n",
    "    vec2 = numpy.log(1+vec1)\n",
    "    loss = numpy.sum(vec2)\n",
    "    reg = lam/2 * numpy.sum(w * w) \n",
    "    return loss + reg    "
   ]
  },
  {
   "cell_type": "code",
   "execution_count": 30,
   "metadata": {},
   "outputs": [],
   "source": [
    "def gradient(w, x, y, lam): \n",
    "    n, d = x.shape\n",
    "    yx = numpy.multiply(y, x)\n",
    "    yxw = numpy.dot(yx, w)\n",
    "    vec1 = numpy.exp(yxw)\n",
    "    vec2 = numpy.divide(yx, 1+vec1)\n",
    "    vec3 = -numpy.mean(vec2, axis=0).reshape(d, 1)\n",
    "    g = vec3 + lam * w\n",
    "    return g"
   ]
  },
  {
   "cell_type": "code",
   "execution_count": 31,
   "metadata": {},
   "outputs": [],
   "source": [
    "class Worker:\n",
    "    def __init__(self, x, y):\n",
    "        self.x = x # s-by-d feature matrix\n",
    "        self.y = y # s-by-1 label matrix\n",
    "        self.s = x.shape[0]\n",
    "        self.d = x.shape[1]\n",
    "        self.w = numpy.zeros((d, 1)) # d-by-1 parameter vector\n",
    "    def set_param(self, w):\n",
    "        self.w = w    \n",
    "    def loss(self, lam): \n",
    "        yx = numpy.multiply(self.y, self.x)\n",
    "        yxw = numpy.dot(yx, self.w)\n",
    "        vec1 = numpy.exp(-yxw)\n",
    "        vec2 = numpy.log(1+vec1)\n",
    "        reg = lam/2 * numpy.sum(self.w * self.w) \n",
    "        return  numpy.sum(vec2) + reg    \n",
    "    def grad_descent(self, q, alpha, lam): \n",
    "        objvals = numpy.zeros(q)\n",
    "        w = self.w\n",
    "        for t in range(q): # q local iterations\n",
    "            objval = objective(w, self.x, self.y, lam)\n",
    "            g = gradient(w, self.x, self.y, lam)\n",
    "            w -= alpha * g\n",
    "            objvals[t] = objval\n",
    "            alpha *= 0.9 # decrease the leaining rate alpha\n",
    "        g = self.w - w\n",
    "        return g, objval"
   ]
  },
  {
   "cell_type": "code",
   "execution_count": 32,
   "metadata": {},
   "outputs": [],
   "source": [
    "class Server:\n",
    "    def __init__(self, m, n, d):\n",
    "        self.m = m # number of worker nodes\n",
    "        self.n = n # number of traning samples\n",
    "        self.d = d # number of features\n",
    "        self.w = numpy.zeros((d, 1))##d−by−1 model parameter vector \n",
    "        self.g = numpy.zeros((d, 1)) # d−by−1 gradient\n",
    "        self.v = numpy.zeros((d, 1)) # d−by−1 momentum\n",
    "        self.loss = 0 # loss function value\n",
    "        self.obj = 0 # objective function value\n",
    "    def broadcast(self): \n",
    "        return self.w\n",
    "    \n",
    "    # Sum the gradients and loss functions evaluated by the workers \n",
    "    # Args:\n",
    "    #   grads: a list of d−by−1 vectors\n",
    "    #   losses : a list of scalars\n",
    "    def aggregate(self, grads, losses): \n",
    "        self.g = numpy.zeros((self.d, 1)) \n",
    "        self.loss=0\n",
    "        for k in range(self.m):\n",
    "            self.g += grads[k]\n",
    "            self.loss += losses[k]\n",
    "    \n",
    "    # Compute the gradient (from the loss and regularization )\n",
    "    def gradient(self, lam):\n",
    "        self.g = self.g / self.n \n",
    "    \n",
    "    # Compute the objective function (sum of loss and regularization )\n",
    "    def objective(self, lam):\n",
    "        self.obj = self.loss / self.n \n",
    "        return self.obj\n",
    "    \n",
    "    # Update the model parameters using gradient descent \n",
    "    # Args:\n",
    "    #   alpha: learning rate (step size)\n",
    "    def agd(self, alpha, beta):\n",
    "        self.v *= beta\n",
    "        self.v += self.g\n",
    "        self.w -= alpha * self.v       "
   ]
  },
  {
   "cell_type": "markdown",
   "metadata": {},
   "source": [
    "## 3. Initialization"
   ]
  },
  {
   "cell_type": "code",
   "execution_count": 33,
   "metadata": {},
   "outputs": [],
   "source": [
    "import math\n",
    "\n",
    "# Create a server and m worker nodes\n",
    "def create_server_workers(m, x, y): \n",
    "    n, d = x.shape\n",
    "    s = math.floor(n / m) \n",
    "    server = Server(m, n, d) \n",
    "    workers = []\n",
    "\n",
    "    for i in range(m):\n",
    "        indices = list(range(i*s, (i+1)*s))\n",
    "        worker = Worker(x[indices, :], y[indices, :]) \n",
    "        workers.append(worker)\n",
    "    return server, workers"
   ]
  },
  {
   "cell_type": "markdown",
   "metadata": {},
   "source": [
    "## 4. Performing federated averaging"
   ]
  },
  {
   "cell_type": "markdown",
   "metadata": {},
   "source": [
    "### 4.1 Federated GD with q =1"
   ]
  },
  {
   "cell_type": "code",
   "execution_count": 25,
   "metadata": {},
   "outputs": [],
   "source": [
    "m = 7 # number of worker nodes\n",
    "server, workers = create_server_workers(m, x_train, y_train)"
   ]
  },
  {
   "cell_type": "code",
   "execution_count": 26,
   "metadata": {},
   "outputs": [
    {
     "name": "stdout",
     "output_type": "stream",
     "text": [
      "Objective function value = 0.6584592406953151\n",
      "Objective function value = 0.6036120300590864\n",
      "Objective function value = 0.5698156431017944\n",
      "Objective function value = 0.5474013149626349\n",
      "Objective function value = 0.5316362807223005\n",
      "Objective function value = 0.5200477846495992\n",
      "Objective function value = 0.5112424588367508\n",
      "Objective function value = 0.5043806661276123\n",
      "Objective function value = 0.498927185835941\n",
      "Objective function value = 0.49452462592265745\n",
      "Objective function value = 0.4909250265790714\n",
      "Objective function value = 0.4879508292233162\n",
      "Objective function value = 0.48547151413987166\n",
      "Objective function value = 0.4833890211871775\n",
      "Objective function value = 0.4816283136836043\n",
      "Objective function value = 0.4801310732881906\n",
      "Objective function value = 0.4788513680605512\n",
      "Objective function value = 0.47775260302747535\n",
      "Objective function value = 0.4768053275918124\n",
      "Objective function value = 0.4759856295780918\n",
      "Objective function value = 0.47527393973982324\n",
      "Objective function value = 0.4746541290479197\n",
      "Objective function value = 0.4741128184177352\n",
      "Objective function value = 0.4736388449354245\n",
      "Objective function value = 0.4732228449420199\n",
      "Objective function value = 0.4728569254346436\n",
      "Objective function value = 0.47253440294237203\n",
      "Objective function value = 0.4722495944601214\n",
      "Objective function value = 0.471997648905013\n",
      "Objective function value = 0.47177441037314016\n",
      "Objective function value = 0.47157630653902755\n",
      "Objective function value = 0.47140025707157507\n",
      "Objective function value = 0.47124359808790733\n",
      "Objective function value = 0.4711040195344431\n",
      "Objective function value = 0.4709795130464188\n",
      "Objective function value = 0.47086832834584536\n",
      "Objective function value = 0.47076893663173724\n",
      "Objective function value = 0.470679999723418\n",
      "Objective function value = 0.4706003439584583\n",
      "Objective function value = 0.4705289380367349\n",
      "Objective function value = 0.4704648741527799\n",
      "Objective function value = 0.4704073518787557\n",
      "Objective function value = 0.4703556643567121\n",
      "Objective function value = 0.47030918643633957\n",
      "Objective function value = 0.4702673644571921\n",
      "Objective function value = 0.4702297074253245\n",
      "Objective function value = 0.4701957793759009\n",
      "Objective function value = 0.47016519274739244\n",
      "Objective function value = 0.470137602621008\n",
      "Objective function value = 0.4701127017021275\n"
     ]
    }
   ],
   "source": [
    "lam = 1E-6 # regularization parameter\n",
    "alpha = 0.1 # learning rate\n",
    "beta = 0.9 # momentum parameter\n",
    "q = 1 # the number of local iterations\n",
    "max_epoch = 50 \n",
    "objvals_gd1 = []\n",
    "\n",
    "for t in range(max_epoch):\n",
    "    # step 1: broadcast\n",
    "    w = server.broadcast()\n",
    "    for i in range(m):\n",
    "        workers[i].set_param(w)\n",
    "    # step 2: workers local computations\n",
    "    grads = []\n",
    "    losses = []\n",
    "    for i in range(m):\n",
    "        g, l = workers[i].grad_descent(q, alpha, lam)\n",
    "        grads.append(g)\n",
    "        losses.append(l)        \n",
    "    # step 3: aggregate workers' outputs\n",
    "    server.aggregate(grads, losses)\n",
    "    # step 4: server update the model parameters\n",
    "    server.gradient(lam)\n",
    "    obj = server.objective(lam)\n",
    "    objvals_gd1.append(obj)\n",
    "    print('Objective function value = ' + str(obj))\n",
    "    server.agd(alpha, beta)"
   ]
  },
  {
   "cell_type": "markdown",
   "metadata": {},
   "source": [
    "### 4.2 Federated GD with q = 8"
   ]
  },
  {
   "cell_type": "code",
   "execution_count": 34,
   "metadata": {},
   "outputs": [],
   "source": [
    "m = 7 # number of worker nodes\n",
    "server, workers = create_server_workers(m, x_train, y_train)"
   ]
  },
  {
   "cell_type": "code",
   "execution_count": 35,
   "metadata": {},
   "outputs": [
    {
     "name": "stdout",
     "output_type": "stream",
     "text": [
      "Objective function value = 0.5602574060476436\n",
      "Objective function value = 0.4959176613423404\n",
      "Objective function value = 0.4792056174511633\n",
      "Objective function value = 0.4727219690096601\n",
      "Objective function value = 0.4698023658012647\n",
      "Objective function value = 0.4683742722516402\n",
      "Objective function value = 0.4676377369208405\n",
      "Objective function value = 0.4672437477856296\n",
      "Objective function value = 0.4670273268865488\n",
      "Objective function value = 0.4669060252965189\n",
      "Objective function value = 0.46683695020363114\n",
      "Objective function value = 0.4667971086575517\n",
      "Objective function value = 0.46677388716442725\n",
      "Objective function value = 0.466760237691947\n",
      "Objective function value = 0.46675216193537566\n",
      "Objective function value = 0.466747362386631\n",
      "Objective function value = 0.46674450404746093\n",
      "Objective function value = 0.46674280351296726\n",
      "Objective function value = 0.46674179700874274\n",
      "Objective function value = 0.4667412078359008\n",
      "Objective function value = 0.46674086979363444\n",
      "Objective function value = 0.46674068249905093\n",
      "Objective function value = 0.46674058507653415\n",
      "Objective function value = 0.46674054052946656\n",
      "Objective function value = 0.46674052638092095\n",
      "Objective function value = 0.46674052902539404\n",
      "Objective function value = 0.4667405402957777\n",
      "Objective function value = 0.4667405553633535\n",
      "Objective function value = 0.46674057144614983\n",
      "Objective function value = 0.4667405870110922\n",
      "Objective function value = 0.46674060127983763\n",
      "Objective function value = 0.4667406139225013\n",
      "Objective function value = 0.4667406248682286\n",
      "Objective function value = 0.46674063418869915\n",
      "Objective function value = 0.4667406420272561\n",
      "Objective function value = 0.4667406485565756\n",
      "Objective function value = 0.46674065395413733\n",
      "Objective function value = 0.46674065838872975\n",
      "Objective function value = 0.46674066201371023\n",
      "Objective function value = 0.46674066496432437\n",
      "Objective function value = 0.4667406673573865\n",
      "Objective function value = 0.46674066929225966\n",
      "Objective function value = 0.4667406708524844\n",
      "Objective function value = 0.46674067210766035\n",
      "Objective function value = 0.4667406731153479\n",
      "Objective function value = 0.4667406739228669\n",
      "Objective function value = 0.4667406745689241\n",
      "Objective function value = 0.466740675085048\n",
      "Objective function value = 0.46674067549682763\n",
      "Objective function value = 0.4667406758249669\n"
     ]
    }
   ],
   "source": [
    "lam = 1E-6 # regularization parameter\n",
    "alpha = 0.1 # learning rate\n",
    "beta = 0.9 # momentum parameter\n",
    "q = 8 # the number of local iterations\n",
    "max_epoch = 50 \n",
    "objvals_gd8 = []\n",
    "\n",
    "for t in range(max_epoch):\n",
    "    # step 1: broadcast\n",
    "    w = server.broadcast()\n",
    "    for i in range(m):\n",
    "        workers[i].set_param(w)\n",
    "    # step 2: workers local computations\n",
    "    grads = []\n",
    "    losses = []\n",
    "    for i in range(m):\n",
    "        g, l = workers[i].grad_descent(q, alpha, lam)\n",
    "        grads.append(g)\n",
    "        losses.append(l)        \n",
    "    # step 3: aggregate workers' outputs\n",
    "    server.aggregate(grads, losses)\n",
    "    # step 4: server update the model parameters\n",
    "    server.gradient(lam)\n",
    "    obj = server.objective(lam)\n",
    "    objvals_gd8.append(obj)\n",
    "    print('Objective function value = ' + str(obj))\n",
    "    server.agd(alpha, beta)"
   ]
  },
  {
   "cell_type": "code",
   "execution_count": 37,
   "metadata": {},
   "outputs": [
    {
     "data": {
      "image/png": "[encoded data removed]",
      "text/plain": [
       "<Figure size 432x288 with 1 Axes>"
      ]
     },
     "metadata": {
      "needs_background": "light"
     },
     "output_type": "display_data"
    }
   ],
   "source": [
    "import matplotlib.pyplot as plt\n",
    "\n",
    "fig = plt.figure(figsize=(6, 4))\n",
    "epochs_gd1 = range(len(objvals_gd1))\n",
    "epochs_gd8 = range(len(objvals_gd8))\n",
    "line0, = plt.plot(epochs_gd1, objvals_gd1, '--b', LineWidth=2)\n",
    "line1, = plt.plot(epochs_gd8, objvals_gd8, '-r', LineWidth=2)\n",
    "\n",
    "plt.xlabel('Communications', FontSize=20)\n",
    "plt.ylabel('Objective Value', FontSize=20)\n",
    "plt.xticks(FontSize=16)\n",
    "plt.yticks(FontSize=16)\n",
    "plt.legend([line0, line1], ['gd1','gd8'], fontsize=20)\n",
    "plt.tight_layout()\n",
    "plt.show()"
   ]
  },
  {
   "cell_type": "code",
   "execution_count": null,
   "metadata": {},
   "outputs": [],
   "source": []
  }
 ],
 "metadata": {
  "kernelspec": {
   "display_name": "Python 3",
   "language": "python",
   "name": "python3"
  },
  "language_info": {
   "codemirror_mode": {
    "name": "ipython",
    "version": 3
   },
   "file_extension": ".py",
   "mimetype": "text/x-python",
   "name": "python",
   "nbconvert_exporter": "python",
   "pygments_lexer": "ipython3",
   "version": "3.7.3"
  }
 },
 "nbformat": 4,
 "nbformat_minor": 2
}
