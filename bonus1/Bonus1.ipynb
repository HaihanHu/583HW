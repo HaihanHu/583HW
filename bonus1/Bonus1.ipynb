{
 "cells": [
  {
   "cell_type": "markdown",
   "metadata": {},
   "source": [
    "# Bonus1: Parallel Algorithms\n",
    "\n",
    "### Name: [Haihan Hu]\n"
   ]
  },
  {
   "cell_type": "markdown",
   "metadata": {},
   "source": [
    "## 0. You will do the following:\n",
    "\n",
    "1. Read the lecture note: [click here](https://github.com/wangshusen/DeepLearning/blob/master/LectureNotes/Parallel/Parallel.pdf)\n",
    "\n",
    "2. Implement federated averaging or decentralized optimization.\n",
    "\n",
    "3. Plot the convergence curve. (The x-axis can be ```number of epochs``` or ```number of communication```. You must make sure the label is correct.)\n",
    "\n",
    "4. Convert the .IPYNB file to .HTML file.\n",
    "\n",
    "    * The HTML file must contain **the code** and **the output after execution**.\n",
    "    \n",
    "5. Upload this .HTML file to your Google Drive, Dropbox, or your Github repo. (If it is submitted to Google Drive or Dropbox, you must make the file open-access.)\n",
    "\n",
    "6. Submit the link to this .HTML file to Canvas.\n",
    "\n",
    "    * Example: https://github.com/wangshusen/CS583-2020S/blob/master/homework/Bonus1/Bonus1.html\n",
    "\n"
   ]
  },
  {
   "cell_type": "code",
   "execution_count": null,
   "metadata": {},
   "outputs": [],
   "source": []
  },
  {
   "cell_type": "markdown",
   "metadata": {},
   "source": [
    "# 1. Data processing\n",
    "\n",
    "- Download the Diabete dataset from https://www.csie.ntu.edu.tw/~cjlin/libsvmtools/datasets/binary/diabetes\n",
    "- Load the data using sklearn.\n",
    "- Preprocess the data."
   ]
  },
  {
   "cell_type": "markdown",
   "metadata": {},
   "source": [
    "## 1.1. Load the data"
   ]
  },
  {
   "cell_type": "code",
   "execution_count": 2,
   "metadata": {},
   "outputs": [
    {
     "name": "stdout",
     "output_type": "stream",
     "text": [
      "Shape of x: (768, 8)\n",
      "Shape of y: (768,)\n"
     ]
    }
   ],
   "source": [
    "from sklearn import datasets\n",
    "import numpy\n",
    "\n",
    "x_sparse, y = datasets.load_svmlight_file('/Users/shirleyhu/Documents/GitHub/CS583-2020S/homework/Bonus1/diabetes')\n",
    "x = x_sparse.todense()\n",
    "\n",
    "print('Shape of x: ' + str(x.shape))\n",
    "print('Shape of y: ' + str(y.shape))"
   ]
  },
  {
   "cell_type": "markdown",
   "metadata": {},
   "source": [
    "## 1.2. Partition to training and test sets"
   ]
  },
  {
   "cell_type": "code",
   "execution_count": 3,
   "metadata": {},
   "outputs": [
    {
     "name": "stdout",
     "output_type": "stream",
     "text": [
      "Shape of x_train: (640, 8)\n",
      "Shape of x_test: (128, 8)\n",
      "Shape of y_train: (640, 1)\n",
      "Shape of y_test: (128, 1)\n"
     ]
    }
   ],
   "source": [
    "# partition the data to training and test sets\n",
    "n = x.shape[0]\n",
    "n_train = 640\n",
    "n_test = n - n_train\n",
    "\n",
    "rand_indices = numpy.random.permutation(n)\n",
    "train_indices = rand_indices[0:n_train]\n",
    "test_indices = rand_indices[n_train:n]\n",
    "\n",
    "x_train = x[train_indices, :]\n",
    "x_test = x[test_indices, :]\n",
    "y_train = y[train_indices].reshape(n_train, 1)\n",
    "y_test = y[test_indices].reshape(n_test, 1)\n",
    "\n",
    "print('Shape of x_train: ' + str(x_train.shape))\n",
    "print('Shape of x_test: ' + str(x_test.shape))\n",
    "print('Shape of y_train: ' + str(y_train.shape))\n",
    "print('Shape of y_test: ' + str(y_test.shape))"
   ]
  },
  {
   "cell_type": "markdown",
   "metadata": {},
   "source": [
    "## 1.3. Feature scaling"
   ]
  },
  {
   "cell_type": "markdown",
   "metadata": {},
   "source": [
    "Use the standardization to trainsform both training and test features"
   ]
  },
  {
   "cell_type": "code",
   "execution_count": 4,
   "metadata": {},
   "outputs": [
    {
     "name": "stdout",
     "output_type": "stream",
     "text": [
      "test mean = \n",
      "[[ 0.097241   -0.0482517   0.05995836 -0.00630958 -0.03076369  0.10149178\n",
      "   0.10603674  0.04578449]]\n",
      "test std = \n",
      "[[1.01227327 0.96033482 0.95976876 1.03466408 0.87785999 0.87487839\n",
      "  1.08862316 1.02296019]]\n"
     ]
    }
   ],
   "source": [
    "# Standardization\n",
    "import numpy\n",
    "\n",
    "# calculate mu and sig using the training set\n",
    "d = x_train.shape[1]\n",
    "mu = numpy.mean(x_train, axis=0).reshape(1, d)\n",
    "sig = numpy.std(x_train, axis=0).reshape(1, d)\n",
    "\n",
    "# transform the training features\n",
    "x_train = (x_train - mu) / (sig + 1E-6)\n",
    "\n",
    "# transform the test features\n",
    "x_test = (x_test - mu) / (sig + 1E-6)\n",
    "\n",
    "print('test mean = ')\n",
    "print(numpy.mean(x_test, axis=0))\n",
    "\n",
    "print('test std = ')\n",
    "print(numpy.std(x_test, axis=0))"
   ]
  },
  {
   "cell_type": "markdown",
   "metadata": {},
   "source": [
    "## 1.4. Add a dimension of all ones"
   ]
  },
  {
   "cell_type": "code",
   "execution_count": 5,
   "metadata": {},
   "outputs": [
    {
     "name": "stdout",
     "output_type": "stream",
     "text": [
      "Shape of x_train: (640, 9)\n",
      "Shape of x_test: (128, 9)\n"
     ]
    }
   ],
   "source": [
    "n_train, d = x_train.shape\n",
    "x_train = numpy.concatenate((x_train, numpy.ones((n_train, 1))), axis=1)\n",
    "\n",
    "n_test, d = x_test.shape\n",
    "x_test = numpy.concatenate((x_test, numpy.ones((n_test, 1))), axis=1)\n",
    "\n",
    "print('Shape of x_train: ' + str(x_train.shape))\n",
    "print('Shape of x_test: ' + str(x_test.shape))"
   ]
  },
  {
   "cell_type": "markdown",
   "metadata": {},
   "source": [
    "## 2. Design worker nodes and the server"
   ]
  },
  {
   "cell_type": "code",
   "execution_count": 6,
   "metadata": {},
   "outputs": [],
   "source": [
    "def objective(w, x, y, lam):\n",
    "    n, d = x.shape\n",
    "    yx = numpy.multiply(y, x)\n",
    "    yxw = numpy.dot(yx, w)\n",
    "    vec1 = numpy.exp(-yxw)\n",
    "    vec2 = numpy.log(1+vec1)\n",
    "    loss = numpy.sum(vec2)\n",
    "    reg = lam/2 * numpy.sum(w * w) \n",
    "    return loss + reg    "
   ]
  },
  {
   "cell_type": "code",
   "execution_count": 7,
   "metadata": {},
   "outputs": [],
   "source": [
    "def gradient(w, x, y, lam): \n",
    "    n, d = x.shape\n",
    "    yx = numpy.multiply(y, x)\n",
    "    yxw = numpy.dot(yx, w)\n",
    "    vec1 = numpy.exp(yxw)\n",
    "    vec2 = numpy.divide(yx, 1+vec1)\n",
    "    vec3 = -numpy.mean(vec2, axis=0).reshape(d, 1)\n",
    "    g = vec3 + lam * w\n",
    "    return g"
   ]
  },
  {
   "cell_type": "code",
   "execution_count": 8,
   "metadata": {},
   "outputs": [],
   "source": [
    "def stochastic_objective_gradient(w, xi, yi, lam):\n",
    "    d = xi.shape[0]\n",
    "    yx = yi * xi # 1-by-d matrix\n",
    "    yxw = float(numpy.dot(yx, w)) \n",
    "    loss = numpy.log(1 + numpy.exp(-yxw)) \n",
    "    reg = lam / 2 * numpy.sum(w * w) \n",
    "    obj = loss + reg\n",
    "    g_loss = -yx.T / (1 + numpy.exp(yxw)) \n",
    "    g = g_loss + lam * w \n",
    "    return obj, g"
   ]
  },
  {
   "cell_type": "code",
   "execution_count": 9,
   "metadata": {},
   "outputs": [],
   "source": [
    "class Worker:\n",
    "    def __init__(self, x, y):\n",
    "        self.x = x # s-by-d feature matrix\n",
    "        self.y = y # s-by-1 label matrix\n",
    "        self.s = x.shape[0]\n",
    "        self.d = x.shape[1]\n",
    "        self.w = numpy.zeros((d, 1)) # d-by-1 parameter vector\n",
    "    def set_param(self, w):\n",
    "        self.w = w    \n",
    "    def loss(self, lam): \n",
    "        yx = numpy.multiply(self.y, self.x)\n",
    "        yxw = numpy.dot(yx, self.w)\n",
    "        vec1 = numpy.exp(-yxw)\n",
    "        vec2 = numpy.log(1+vec1)\n",
    "        reg = lam/2 * numpy.sum(self.w * self.w) \n",
    "        return  numpy.sum(vec2) + reg    \n",
    "    def grad_descent(self, q, alpha, lam): \n",
    "        objvals = numpy.zeros(q)\n",
    "        w = self.w\n",
    "        for t in range(q): # q local iterations\n",
    "            objval = objective(w, self.x, self.y, lam)\n",
    "            g = gradient(w, self.x, self.y, lam)\n",
    "            w -= alpha * g\n",
    "            objvals[t] = objval\n",
    "            alpha *= 0.9 # decrease the leaining rate alpha\n",
    "        g = self.w - w\n",
    "        return g, objval\n",
    "    def sgd(self, q, alpha, lam):\n",
    "        objvals = numpy.zeros(q)\n",
    "        w = self.w\n",
    "        for t in range(q):\n",
    "        # randomly shuffle the samples\n",
    "            rand_indices = numpy.random.permutation(self.s)\n",
    "            x_rand = self.x[rand_indices, :]\n",
    "            y_rand = self.y[rand_indices, :]\n",
    "            objval = 0 # accumulate the objective values            \n",
    "            for i in range(self.s):\n",
    "                xi = x_rand[i, :] # 1-by-d matrix\n",
    "                yi = float(y_rand[i, :]) \n",
    "                obj, g = stochastic_objective_gradient(w, xi, yi, lam)\n",
    "                objval += obj\n",
    "                w -= alpha * g\n",
    "            objvals[t] = objval\n",
    "            alpha *= 0.9 # decrease step size\n",
    "        \n",
    "        g = self.w - w\n",
    "        return g, objval"
   ]
  },
  {
   "cell_type": "code",
   "execution_count": 10,
   "metadata": {},
   "outputs": [],
   "source": [
    "class Server:\n",
    "    def __init__(self, m, n, d):\n",
    "        self.m = m # number of worker nodes\n",
    "        self.n = n # number of traning samples\n",
    "        self.d = d # number of features\n",
    "        self.w = numpy.zeros((d, 1))##d−by−1 model parameter vector \n",
    "        self.g = numpy.zeros((d, 1)) # d−by−1 gradient\n",
    "        self.v = numpy.zeros((d, 1)) # d−by−1 momentum\n",
    "        self.loss = 0 # loss function value\n",
    "        self.obj = 0 # objective function value\n",
    "    def broadcast(self): \n",
    "        return self.w\n",
    "    \n",
    "    # Sum the gradients and loss functions evaluated by the workers \n",
    "    # Args:\n",
    "    #   grads: a list of d−by−1 vectors\n",
    "    #   losses : a list of scalars\n",
    "    def aggregate(self, grads, losses): \n",
    "        self.g = numpy.zeros((self.d, 1)) \n",
    "        self.loss=0\n",
    "        for k in range(self.m):\n",
    "            self.g += grads[k]\n",
    "            self.loss += losses[k]\n",
    "    \n",
    "    # Compute the gradient (from the loss and regularization )\n",
    "    def gradient(self, lam):\n",
    "        self.g = self.g / self.n \n",
    "    \n",
    "    # Compute the objective function (sum of loss and regularization )\n",
    "    def objective(self, lam):\n",
    "        self.obj = self.loss / self.n \n",
    "        return self.obj\n",
    "    \n",
    "    # Update the model parameters using gradient descent \n",
    "    # Args:\n",
    "    #   alpha: learning rate (step size)\n",
    "    def agd(self, alpha, beta):\n",
    "        self.v *= beta\n",
    "        self.v += self.g\n",
    "        self.w -= alpha * self.v       "
   ]
  },
  {
   "cell_type": "markdown",
   "metadata": {},
   "source": [
    "## 3. Initialization"
   ]
  },
  {
   "cell_type": "code",
   "execution_count": 11,
   "metadata": {},
   "outputs": [],
   "source": [
    "import math\n",
    "\n",
    "# Create a server and m worker nodes\n",
    "def create_server_workers(m, x, y): \n",
    "    n, d = x.shape\n",
    "    s = math.floor(n / m) \n",
    "    server = Server(m, n, d) \n",
    "    workers = []\n",
    "\n",
    "    for i in range(m):\n",
    "        indices = list(range(i*s, (i+1)*s))\n",
    "        worker = Worker(x[indices, :], y[indices, :]) \n",
    "        workers.append(worker)\n",
    "    return server, workers"
   ]
  },
  {
   "cell_type": "markdown",
   "metadata": {},
   "source": [
    "## 4. Performing federated averaging"
   ]
  },
  {
   "cell_type": "markdown",
   "metadata": {},
   "source": [
    "### 4.1 Federated GD with q =1"
   ]
  },
  {
   "cell_type": "code",
   "execution_count": 12,
   "metadata": {},
   "outputs": [],
   "source": [
    "m = 4 # number of worker nodes\n",
    "server, workers = create_server_workers(m, x_train, y_train)"
   ]
  },
  {
   "cell_type": "code",
   "execution_count": 13,
   "metadata": {},
   "outputs": [
    {
     "name": "stdout",
     "output_type": "stream",
     "text": [
      "Objective function value = 0.6755948829080711\n",
      "Objective function value = 0.635947390310288\n",
      "Objective function value = 0.6069615518924028\n",
      "Objective function value = 0.5851985564711939\n",
      "Objective function value = 0.5684199283514937\n",
      "Objective function value = 0.5551710840487318\n",
      "Objective function value = 0.5444901455800252\n",
      "Objective function value = 0.5357253457022104\n",
      "Objective function value = 0.5284235448710408\n",
      "Objective function value = 0.522261805160111\n",
      "Objective function value = 0.5170046356096611\n",
      "Objective function value = 0.5124766773854302\n",
      "Objective function value = 0.5085448456519586\n",
      "Objective function value = 0.505106389494226\n",
      "Objective function value = 0.5020807380194311\n",
      "Objective function value = 0.49940382119220994\n",
      "Objective function value = 0.4970240413521399\n",
      "Objective function value = 0.4948993668534024\n",
      "Objective function value = 0.4929952021150269\n",
      "Objective function value = 0.4912828037823583\n",
      "Objective function value = 0.48973808693427373\n",
      "Objective function value = 0.48834071387370753\n",
      "Objective function value = 0.48707339039466896\n",
      "Objective function value = 0.4859213162961938\n",
      "Objective function value = 0.48487175192281134\n",
      "Objective function value = 0.48391367294956245\n",
      "Objective function value = 0.4830374929826501\n",
      "Objective function value = 0.48223483878907236\n",
      "Objective function value = 0.4814983667485949\n",
      "Objective function value = 0.48082161187638556\n",
      "Objective function value = 0.48019886279303686\n",
      "Objective function value = 0.47962505752660556\n",
      "Objective function value = 0.4790956961626227\n",
      "Objective function value = 0.478606767214288\n",
      "Objective function value = 0.47815468523856797\n",
      "Objective function value = 0.47773623772670204\n",
      "Objective function value = 0.47734853968741253\n",
      "Objective function value = 0.47698899464552974\n",
      "Objective function value = 0.47665526101816635\n",
      "Objective function value = 0.4763452230201411\n",
      "Objective function value = 0.47605696540142206\n",
      "Objective function value = 0.4757887514404905\n",
      "Objective function value = 0.4755390037152202\n",
      "Objective function value = 0.47530628725211627\n",
      "Objective function value = 0.47508929471937195\n",
      "Objective function value = 0.4748868333821695\n",
      "Objective function value = 0.47469781358227936\n",
      "Objective function value = 0.4745212385401031\n",
      "Objective function value = 0.47435619530732104\n",
      "Objective function value = 0.474201846723337\n"
     ]
    }
   ],
   "source": [
    "lam = 1E-6 # regularization parameter\n",
    "alpha = 0.1 # learning rate\n",
    "beta = 0.9 # momentum parameter\n",
    "q = 1 # the number of local iterations\n",
    "max_epoch = 50 \n",
    "objvals_gd1 = []\n",
    "\n",
    "for t in range(max_epoch):\n",
    "    # step 1: broadcast\n",
    "    w = server.broadcast()\n",
    "    for i in range(m):\n",
    "        workers[i].set_param(w)\n",
    "    # step 2: workers local computations\n",
    "    grads = []\n",
    "    losses = []\n",
    "    for i in range(m):\n",
    "        g, l = workers[i].grad_descent(q, alpha, lam)\n",
    "        grads.append(g)\n",
    "        losses.append(l)        \n",
    "    # step 3: aggregate workers' outputs\n",
    "    server.aggregate(grads, losses)\n",
    "    # step 4: server update the model parameters\n",
    "    server.gradient(lam)\n",
    "    obj = server.objective(lam)\n",
    "    objvals_gd1.append(obj)\n",
    "    print('Objective function value = ' + str(obj))\n",
    "    server.agd(alpha, beta)"
   ]
  },
  {
   "cell_type": "markdown",
   "metadata": {},
   "source": [
    "### 4.2 Federated GD with q = 8"
   ]
  },
  {
   "cell_type": "code",
   "execution_count": 14,
   "metadata": {},
   "outputs": [],
   "source": [
    "m = 4 # number of worker nodes\n",
    "server, workers = create_server_workers(m, x_train, y_train)"
   ]
  },
  {
   "cell_type": "code",
   "execution_count": 15,
   "metadata": {},
   "outputs": [
    {
     "name": "stdout",
     "output_type": "stream",
     "text": [
      "Objective function value = 0.587297516070213\n",
      "Objective function value = 0.522105315399196\n",
      "Objective function value = 0.4986637037710949\n",
      "Objective function value = 0.4872354646608924\n",
      "Objective function value = 0.4808606316772262\n",
      "Objective function value = 0.47703428027467487\n",
      "Objective function value = 0.4746287910775015\n",
      "Objective function value = 0.4730672610644723\n",
      "Objective function value = 0.47202956082923864\n",
      "Objective function value = 0.4713277223340315\n",
      "Objective function value = 0.47084665012748195\n",
      "Objective function value = 0.4705135440443328\n",
      "Objective function value = 0.47028115372367585\n",
      "Objective function value = 0.4701181666590809\n",
      "Objective function value = 0.470003476819437\n",
      "Objective function value = 0.46992265787108745\n",
      "Objective function value = 0.46986573501381573\n",
      "Objective function value = 0.46982574556065815\n",
      "Objective function value = 0.46979779128717614\n",
      "Objective function value = 0.4697784043701308\n",
      "Objective function value = 0.4697651172192822\n",
      "Objective function value = 0.4697561671317157\n",
      "Objective function value = 0.46975029141308033\n",
      "Objective function value = 0.469746583984527\n",
      "Objective function value = 0.46974439424881104\n",
      "Objective function value = 0.469743255287678\n",
      "Objective function value = 0.4697428325937163\n",
      "Objective function value = 0.4697428872873079\n",
      "Objective function value = 0.46974324961943587\n",
      "Objective function value = 0.4697437998209673\n",
      "Objective function value = 0.4697444542255669\n",
      "Objective function value = 0.46974515519478854\n",
      "Objective function value = 0.4697458637946633\n",
      "Objective function value = 0.4697465544696424\n",
      "Objective function value = 0.4697472111701207\n",
      "Objective function value = 0.4697478245398816\n",
      "Objective function value = 0.46974838987748385\n",
      "Objective function value = 0.46974890566322813\n",
      "Objective function value = 0.4697493724995156\n",
      "Objective function value = 0.46974979235321734\n",
      "Objective function value = 0.4697501680184235\n",
      "Objective function value = 0.4697505027396742\n",
      "Objective function value = 0.46975079995171\n",
      "Objective function value = 0.46975106310346515\n",
      "Objective function value = 0.4697512955426316\n",
      "Objective function value = 0.4697515004434448\n",
      "Objective function value = 0.4697516807650099\n",
      "Objective function value = 0.4697518392309178\n",
      "Objective function value = 0.4697519783234365\n",
      "Objective function value = 0.46975210028742287\n"
     ]
    }
   ],
   "source": [
    "lam = 1E-6 # regularization parameter\n",
    "alpha = 0.1 # learning rate\n",
    "beta = 0.9 # momentum parameter\n",
    "q = 8 # the number of local iterations\n",
    "max_epoch = 50 \n",
    "objvals_gd8 = []\n",
    "\n",
    "for t in range(max_epoch):\n",
    "    # step 1: broadcast\n",
    "    w = server.broadcast()\n",
    "    for i in range(m):\n",
    "        workers[i].set_param(w)\n",
    "    # step 2: workers local computations\n",
    "    grads = []\n",
    "    losses = []\n",
    "    for i in range(m):\n",
    "        g, l = workers[i].grad_descent(q, alpha, lam)\n",
    "        grads.append(g)\n",
    "        losses.append(l)        \n",
    "    # step 3: aggregate workers' outputs\n",
    "    server.aggregate(grads, losses)\n",
    "    # step 4: server update the model parameters\n",
    "    server.gradient(lam)\n",
    "    obj = server.objective(lam)\n",
    "    objvals_gd8.append(obj)\n",
    "    print('Objective function value = ' + str(obj))\n",
    "    server.agd(alpha, beta)"
   ]
  },
  {
   "cell_type": "markdown",
   "metadata": {},
   "source": [
    "### 4.3 Federated SGD with q = 1"
   ]
  },
  {
   "cell_type": "code",
   "execution_count": 16,
   "metadata": {},
   "outputs": [],
   "source": [
    "m = 4 # number of worker nodes\n",
    "server, workers = create_server_workers(m, x_train, y_train)"
   ]
  },
  {
   "cell_type": "code",
   "execution_count": 17,
   "metadata": {},
   "outputs": [
    {
     "name": "stdout",
     "output_type": "stream",
     "text": [
      "Objective function value = 0.6591967349481949\n",
      "Objective function value = 0.6082669283053252\n",
      "Objective function value = 0.5759234195681237\n",
      "Objective function value = 0.5539840406971217\n",
      "Objective function value = 0.5383684885315903\n",
      "Objective function value = 0.5267430945280728\n",
      "Objective function value = 0.5178227808653378\n",
      "Objective function value = 0.5108006598768405\n",
      "Objective function value = 0.5051683342312231\n",
      "Objective function value = 0.5005694234702404\n",
      "Objective function value = 0.4967709784239118\n",
      "Objective function value = 0.49358402379344535\n",
      "Objective function value = 0.49090063534443446\n",
      "Objective function value = 0.48861032204197574\n",
      "Objective function value = 0.4866622548540936\n",
      "Objective function value = 0.48497001205845347\n",
      "Objective function value = 0.48352911456395303\n",
      "Objective function value = 0.4822616005574192\n",
      "Objective function value = 0.4811579509933367\n",
      "Objective function value = 0.48018656605919174\n",
      "Objective function value = 0.47934474199263244\n",
      "Objective function value = 0.47859120608609035\n",
      "Objective function value = 0.47793347167980016\n",
      "Objective function value = 0.47734735594914596\n",
      "Objective function value = 0.4768258151346319\n",
      "Objective function value = 0.4763644898194377\n",
      "Objective function value = 0.47595571353790084\n",
      "Objective function value = 0.4755823647767469\n",
      "Objective function value = 0.4752584348824277\n",
      "Objective function value = 0.4749641914079069\n",
      "Objective function value = 0.4746964999123172\n",
      "Objective function value = 0.47445689255967577\n",
      "Objective function value = 0.4742428454214703\n",
      "Objective function value = 0.47405081105737723\n",
      "Objective function value = 0.4738771990808452\n",
      "Objective function value = 0.4737230713145412\n",
      "Objective function value = 0.473574895851492\n",
      "Objective function value = 0.473452932688381\n",
      "Objective function value = 0.47333114299160306\n",
      "Objective function value = 0.4732304143396286\n",
      "Objective function value = 0.4731339123348269\n",
      "Objective function value = 0.4730469907020377\n",
      "Objective function value = 0.4729700626607333\n",
      "Objective function value = 0.4728980233608434\n",
      "Objective function value = 0.4728334245135393\n",
      "Objective function value = 0.47277298642420157\n",
      "Objective function value = 0.4727201955095201\n",
      "Objective function value = 0.4726673209066564\n",
      "Objective function value = 0.47262412563290346\n",
      "Objective function value = 0.4725856227431384\n"
     ]
    }
   ],
   "source": [
    "lam = 1E-6 # regularization parameter\n",
    "alpha = 0.001 # learning rate\n",
    "beta = 0.9 # momentum parameter\n",
    "q = 1 # the number of local iterations\n",
    "max_epoch = 50 \n",
    "objvals_sgd1 = []\n",
    "\n",
    "for t in range(max_epoch):\n",
    "    # step 1: broadcast\n",
    "    w = server.broadcast()\n",
    "    for i in range(m):\n",
    "        workers[i].set_param(w)\n",
    "    # step 2: workers local computations\n",
    "    grads = []\n",
    "    losses = []\n",
    "    for i in range(m):\n",
    "        g, l = workers[i].sgd(q, alpha, lam)\n",
    "        grads.append(g)\n",
    "        losses.append(l)        \n",
    "    # step 3: aggregate workers' outputs\n",
    "    server.aggregate(grads, losses)\n",
    "    # step 4: server update the model parameters\n",
    "    server.gradient(lam)\n",
    "    obj = server.objective(lam)\n",
    "    objvals_sgd1.append(obj)\n",
    "    print('Objective function value = ' + str(obj))\n",
    "    server.agd(alpha, beta)"
   ]
  },
  {
   "cell_type": "markdown",
   "metadata": {},
   "source": [
    "### 4.4 Federated SGD with q = 8"
   ]
  },
  {
   "cell_type": "code",
   "execution_count": 18,
   "metadata": {},
   "outputs": [],
   "source": [
    "m = 4 # number of worker nodes\n",
    "server, workers = create_server_workers(m, x_train, y_train)"
   ]
  },
  {
   "cell_type": "code",
   "execution_count": 19,
   "metadata": {},
   "outputs": [
    {
     "name": "stdout",
     "output_type": "stream",
     "text": [
      "Objective function value = 0.5575403177780207\n",
      "Objective function value = 0.4987268920847196\n",
      "Objective function value = 0.4823524621953765\n",
      "Objective function value = 0.4756208705235399\n",
      "Objective function value = 0.4724312567903011\n",
      "Objective function value = 0.470800959702656\n",
      "Objective function value = 0.46993422962965764\n",
      "Objective function value = 0.4694701720717275\n",
      "Objective function value = 0.4692018381522997\n",
      "Objective function value = 0.46906221936547643\n",
      "Objective function value = 0.46898399530809626\n",
      "Objective function value = 0.46893405394651344\n",
      "Objective function value = 0.4689154202758095\n",
      "Objective function value = 0.46890746188568605\n",
      "Objective function value = 0.4689056150230175\n",
      "Objective function value = 0.4689064656326192\n",
      "Objective function value = 0.46890688326564084\n",
      "Objective function value = 0.46890950919779506\n",
      "Objective function value = 0.4689124983175718\n",
      "Objective function value = 0.4689188833345028\n",
      "Objective function value = 0.46892102143280523\n",
      "Objective function value = 0.4689201466823077\n",
      "Objective function value = 0.4689207989718092\n",
      "Objective function value = 0.46892167006109586\n",
      "Objective function value = 0.4689196732873239\n",
      "Objective function value = 0.46892447267539145\n",
      "Objective function value = 0.4689264027475463\n",
      "Objective function value = 0.46892168272065965\n",
      "Objective function value = 0.4689332008725085\n",
      "Objective function value = 0.46892745499038524\n",
      "Objective function value = 0.468935982908547\n",
      "Objective function value = 0.4689264139137882\n",
      "Objective function value = 0.4689317890768946\n",
      "Objective function value = 0.46893481172198015\n",
      "Objective function value = 0.4689274301174849\n",
      "Objective function value = 0.46892491737080766\n",
      "Objective function value = 0.46892810043288585\n",
      "Objective function value = 0.468933040311445\n",
      "Objective function value = 0.4689328185293748\n",
      "Objective function value = 0.4689310382461322\n",
      "Objective function value = 0.46893041811638286\n",
      "Objective function value = 0.468930142375165\n",
      "Objective function value = 0.4689366295903031\n",
      "Objective function value = 0.46893090577902746\n",
      "Objective function value = 0.46892721222685074\n",
      "Objective function value = 0.46893680193826615\n",
      "Objective function value = 0.46892764349413796\n",
      "Objective function value = 0.46893078328182786\n",
      "Objective function value = 0.4689364270961329\n",
      "Objective function value = 0.468928068579765\n"
     ]
    }
   ],
   "source": [
    "lam = 1E-6 # regularization parameter\n",
    "alpha = 0.001 # learning rate\n",
    "beta = 0.9 # momentum parameter\n",
    "q = 8 # the number of local iterations\n",
    "max_epoch = 50 \n",
    "objvals_sgd8 = []\n",
    "\n",
    "for t in range(max_epoch):\n",
    "    # step 1: broadcast\n",
    "    w = server.broadcast()\n",
    "    for i in range(m):\n",
    "        workers[i].set_param(w)\n",
    "    # step 2: workers local computations\n",
    "    grads = []\n",
    "    losses = []\n",
    "    for i in range(m):\n",
    "        g, l = workers[i].sgd(q, alpha, lam)\n",
    "        grads.append(g)\n",
    "        losses.append(l)        \n",
    "    # step 3: aggregate workers' outputs\n",
    "    server.aggregate(grads, losses)\n",
    "    # step 4: server update the model parameters\n",
    "    server.gradient(lam)\n",
    "    obj = server.objective(lam)\n",
    "    objvals_sgd8.append(obj)\n",
    "    print('Objective function value = ' + str(obj))\n",
    "    server.agd(alpha, beta)"
   ]
  },
  {
   "cell_type": "code",
   "execution_count": 20,
   "metadata": {},
   "outputs": [
    {
     "data": {
      "image/png": "[encoded data removed]",
      "text/plain": [
       "<Figure size 432x288 with 1 Axes>"
      ]
     },
     "metadata": {
      "needs_background": "light"
     },
     "output_type": "display_data"
    }
   ],
   "source": [
    "import matplotlib.pyplot as plt\n",
    "\n",
    "fig = plt.figure(figsize=(6, 4))\n",
    "coms_gd1 = range(len(objvals_gd1))\n",
    "coms_gd8 = range(len(objvals_gd8))\n",
    "coms_sgd1 = range(len(objvals_sgd1))\n",
    "coms_sgd8 = range(len(objvals_sgd8))\n",
    "line0, = plt.plot(coms_gd1, objvals_gd1, '--b', LineWidth=2)\n",
    "line1, = plt.plot(coms_gd8, objvals_gd8, '-r', LineWidth=2)\n",
    "line2, = plt.plot(coms_sgd1, objvals_sgd1, '--y', LineWidth=2)\n",
    "line3, = plt.plot(coms_sgd8, objvals_sgd8, '-g', LineWidth=2)\n",
    "\n",
    "plt.xlabel('Communications', FontSize=20)\n",
    "plt.ylabel('Objective Value', FontSize=20)\n",
    "plt.xticks(FontSize=16)\n",
    "plt.yticks(FontSize=16)\n",
    "plt.legend([line0, line1, line2, line3], ['gd1','gd8', 'sgd1', 'sgd8'], fontsize=20)\n",
    "plt.tight_layout()\n",
    "plt.show()"
   ]
  },
  {
   "cell_type": "code",
   "execution_count": null,
   "metadata": {},
   "outputs": [],
   "source": []
  }
 ],
 "metadata": {
  "kernelspec": {
   "display_name": "Python 3",
   "language": "python",
   "name": "python3"
  },
  "language_info": {
   "codemirror_mode": {
    "name": "ipython",
    "version": 3
   },
   "file_extension": ".py",
   "mimetype": "text/x-python",
   "name": "python",
   "nbconvert_exporter": "python",
   "pygments_lexer": "ipython3",
   "version": "3.7.3"
  }
 },
 "nbformat": 4,
 "nbformat_minor": 2
}
