{
  "nbformat": 4,
  "nbformat_minor": 0,
  "metadata": {
    "kernelspec": {
      "name": "python3",
      "display_name": "Python 3"
    },
    "language_info": {
      "codemirror_mode": {
        "name": "ipython",
        "version": 3
      },
      "file_extension": ".py",
      "mimetype": "text/x-python",
      "name": "python",
      "nbconvert_exporter": "python",
      "pygments_lexer": "ipython3",
      "version": "3.6.4"
    },
    "colab": {
      "name": "HM4.ipynb",
      "provenance": [],
      "collapsed_sections": []
    },
    "accelerator": "GPU"
  },
  "cells": [
    {
      "cell_type": "markdown",
      "metadata": {
        "id": "OVitRB3K8hap",
        "colab_type": "text"
      },
      "source": [
        "# Home 4: Build a CNN for image recognition.\n",
        "\n",
        "### Name: [Haihan Hu]\n"
      ]
    },
    {
      "cell_type": "markdown",
      "metadata": {
        "id": "oMiTWO2R8hat",
        "colab_type": "text"
      },
      "source": [
        "## 0. You will do the following:\n",
        "\n",
        "1. Read, complete, and run the code.\n",
        "\n",
        "2. **Make substantial improvements** to maximize the accurcy.\n",
        "    \n",
        "3. Convert the .IPYNB file to .HTML file.\n",
        "\n",
        "    * The HTML file must contain the code and the output after execution.\n",
        "    \n",
        "    * Missing **the output after execution** will not be graded.\n",
        "    \n",
        "4. Upload this .HTML file to your Google Drive, Dropbox, or Github repo. (If you submit the file to Google Drive or Dropbox, you must make the file \"open-access\". The delay caused by \"deny of access\" may result in late penalty.)\n",
        "\n",
        "4. Submit the link to this .HTML file to Canvas.\n",
        "\n",
        "    * Example: https://github.com/wangshusen/CS583-2020S/blob/master/homework/HM4/HM4.html\n",
        "\n",
        "\n",
        "## Requirements:\n",
        "\n",
        "1. You can use whatever CNN architecture, including VGG, Inception, and ResNet. However, you must build the networks layer by layer. You must NOT import the archetectures from ```keras.applications```.\n",
        "\n",
        "2. Make sure ```BatchNormalization``` is between a ```Conv```/```Dense``` layer and an ```activation``` layer.\n",
        "\n",
        "3. If you want to regularize a ```Conv```/```Dense``` layer, you should place a ```Dropout``` layer **before** the ```Conv```/```Dense``` layer.\n",
        "\n",
        "4. An accuracy above 70% is considered reasonable. An accuracy above 80% is considered good. Without data augmentation, achieving 80% accuracy is difficult.\n",
        "\n",
        "\n",
        "## Google Colab\n",
        "\n",
        "- If you do not have GPU, the training of a CNN can be slow. Google Colab is a good option.\n",
        "\n",
        "- Keep in mind that you must download it as an IPYNB file and then use IPython Notebook to convert it to HTML.\n",
        "\n",
        "- Also keep in mind that the IPYNB and HTML files must contain the outputs. (Otherwise, the instructor will not be able to know the correctness and performance.) Do the followings to keep the outputs.\n",
        "\n",
        "- In Colab, go to ```Runtime``` --> ```Change runtime type``` --> Do NOT check ```Omit code cell output when saving this notebook```. In this way, the downloaded IPYNB file contains the outputs."
      ]
    },
    {
      "cell_type": "markdown",
      "metadata": {
        "id": "5W65DLYs8hau",
        "colab_type": "text"
      },
      "source": [
        "## 1. Data preparation"
      ]
    },
    {
      "cell_type": "markdown",
      "metadata": {
        "id": "3Zg2mTFk8hav",
        "colab_type": "text"
      },
      "source": [
        "### 1.1. Load data\n"
      ]
    },
    {
      "cell_type": "code",
      "metadata": {
        "id": "eQ-eXlAU8haw",
        "colab_type": "code",
        "colab": {
          "base_uri": "https://localhost:8080/",
          "height": 199
        },
        "outputId": "518404cb-f6a1-4845-e04c-254be36762b7"
      },
      "source": [
        "from keras.datasets import cifar10\n",
        "import numpy\n",
        "\n",
        "(x_train, y_train), (x_test, y_test) = cifar10.load_data()\n",
        "\n",
        "print('shape of x_train: ' + str(x_train.shape))\n",
        "print('shape of y_train: ' + str(y_train.shape))\n",
        "print('shape of x_test: ' + str(x_test.shape))\n",
        "print('shape of y_test: ' + str(y_test.shape))\n",
        "print('number of classes: ' + str(numpy.max(y_train) - numpy.min(y_train) + 1))"
      ],
      "execution_count": 2,
      "outputs": [
        {
          "output_type": "stream",
          "text": [
            "Using TensorFlow backend.\n"
          ],
          "name": "stderr"
        },
        {
          "output_type": "display_data",
          "data": {
            "text/html": [
              "<p style=\"color: red;\">\n",
              "The default version of TensorFlow in Colab will soon switch to TensorFlow 2.x.<br>\n",
              "We recommend you <a href=\"https://www.tensorflow.org/guide/migrate\" target=\"_blank\">upgrade</a> now \n",
              "or ensure your notebook will continue to use TensorFlow 1.x via the <code>%tensorflow_version 1.x</code> magic:\n",
              "<a href=\"https://colab.research.google.com/notebooks/tensorflow_version.ipynb\" target=\"_blank\">more info</a>.</p>\n"
            ],
            "text/plain": [
              "<IPython.core.display.HTML object>"
            ]
          },
          "metadata": {
            "tags": []
          }
        },
        {
          "output_type": "stream",
          "text": [
            "Downloading data from https://www.cs.toronto.edu/~kriz/cifar-10-python.tar.gz\n",
            "170500096/170498071 [==============================] - 4s 0us/step\n",
            "shape of x_train: (50000, 32, 32, 3)\n",
            "shape of y_train: (50000, 1)\n",
            "shape of x_test: (10000, 32, 32, 3)\n",
            "shape of y_test: (10000, 1)\n",
            "number of classes: 10\n"
          ],
          "name": "stdout"
        }
      ]
    },
    {
      "cell_type": "markdown",
      "metadata": {
        "id": "bUUGAMci8ha1",
        "colab_type": "text"
      },
      "source": [
        "### 1.2. One-hot encode the labels\n",
        "\n",
        "In the input, a label is a scalar in $\\{0, 1, \\cdots , 9\\}$. One-hot encode transform such a scalar to a $10$-dim vector. E.g., a scalar ```y_train[j]=3``` is transformed to the vector ```y_train_vec[j]=[0, 0, 0, 1, 0, 0, 0, 0, 0, 0]```.\n",
        "\n",
        "1. Define a function ```to_one_hot``` that transforms an $n\\times 1$ array to a $n\\times 10$ matrix.\n",
        "\n",
        "2. Apply the function to ```y_train``` and ```y_test```."
      ]
    },
    {
      "cell_type": "code",
      "metadata": {
        "id": "mNoS1gaz8ha3",
        "colab_type": "code",
        "colab": {
          "base_uri": "https://localhost:8080/",
          "height": 85
        },
        "outputId": "9c9d317b-238c-4d22-f0f4-9286d5cf70d6"
      },
      "source": [
        "def to_one_hot(y, num_class=10):\n",
        "    results = numpy.zeros((len(y), num_class))\n",
        "    for i, y in enumerate(y):\n",
        "        results[i, y] = 1\n",
        "    return results\n",
        "\n",
        "y_train_vec = to_one_hot(y_train)\n",
        "y_test_vec = to_one_hot(y_test)\n",
        "\n",
        "print('Shape of y_train_vec: ' + str(y_train_vec.shape))\n",
        "print('Shape of y_test_vec: ' + str(y_test_vec.shape))\n",
        "\n",
        "print(y_train[0])\n",
        "print(y_train_vec[0])"
      ],
      "execution_count": 3,
      "outputs": [
        {
          "output_type": "stream",
          "text": [
            "Shape of y_train_vec: (50000, 10)\n",
            "Shape of y_test_vec: (10000, 10)\n",
            "[6]\n",
            "[0. 0. 0. 0. 0. 0. 1. 0. 0. 0.]\n"
          ],
          "name": "stdout"
        }
      ]
    },
    {
      "cell_type": "markdown",
      "metadata": {
        "id": "cNrg29f48ha6",
        "colab_type": "text"
      },
      "source": [
        "#### Remark: the outputs should be\n",
        "* Shape of y_train_vec: (50000, 10)\n",
        "* Shape of y_test_vec: (10000, 10)\n",
        "* [6]\n",
        "* [0. 0. 0. 0. 0. 0. 1. 0. 0. 0.]"
      ]
    },
    {
      "cell_type": "markdown",
      "metadata": {
        "id": "PEkcLuC58ha7",
        "colab_type": "text"
      },
      "source": [
        "### 1.3. Randomly partition the training set to training and validation sets\n",
        "\n",
        "Randomly partition the 50K training samples to 2 sets:\n",
        "* a training set containing 40K samples\n",
        "* a validation set containing 10K samples\n"
      ]
    },
    {
      "cell_type": "code",
      "metadata": {
        "id": "4hseja678ha8",
        "colab_type": "code",
        "colab": {
          "base_uri": "https://localhost:8080/",
          "height": 85
        },
        "outputId": "16c553d1-dbca-4949-cff8-9ae1502e5e20"
      },
      "source": [
        "rand_indices = numpy.random.permutation(50000)\n",
        "train_indices = rand_indices[0:40000]\n",
        "valid_indices = rand_indices[40000:50000]\n",
        "\n",
        "x_val = x_train[valid_indices, :]\n",
        "y_val = y_train_vec[valid_indices, :]\n",
        "\n",
        "x_tr = x_train[train_indices, :]\n",
        "y_tr = y_train_vec[train_indices, :]\n",
        "\n",
        "print('Shape of x_tr: ' + str(x_tr.shape))\n",
        "print('Shape of y_tr: ' + str(y_tr.shape))\n",
        "print('Shape of x_val: ' + str(x_val.shape))\n",
        "print('Shape of y_val: ' + str(y_val.shape))"
      ],
      "execution_count": 4,
      "outputs": [
        {
          "output_type": "stream",
          "text": [
            "Shape of x_tr: (40000, 32, 32, 3)\n",
            "Shape of y_tr: (40000, 10)\n",
            "Shape of x_val: (10000, 32, 32, 3)\n",
            "Shape of y_val: (10000, 10)\n"
          ],
          "name": "stdout"
        }
      ]
    },
    {
      "cell_type": "markdown",
      "metadata": {
        "id": "uXN3pEzN8hbB",
        "colab_type": "text"
      },
      "source": [
        "## 2. Build a CNN and tune its hyper-parameters\n",
        "\n",
        "1. Build a convolutional neural network model\n",
        "2. Use the validation data to tune the hyper-parameters (e.g., network structure, and optimization algorithm)\n",
        "    * Do NOT use test data for hyper-parameter tuning!!!\n",
        "3. Try to achieve a validation accuracy as high as possible."
      ]
    },
    {
      "cell_type": "markdown",
      "metadata": {
        "id": "ScL8wX8C8hbB",
        "colab_type": "text"
      },
      "source": [
        "### Remark: \n",
        "\n",
        "The following CNN is just an example. You are supposed to make **substantial improvements** such as:\n",
        "* Add more layers.\n",
        "* Use regularizations, e.g., dropout.\n",
        "* Use batch normalization."
      ]
    },
    {
      "cell_type": "code",
      "metadata": {
        "id": "C_p2wvck8hbC",
        "colab_type": "code",
        "colab": {
          "base_uri": "https://localhost:8080/",
          "height": 1000
        },
        "outputId": "b848b563-bf30-4e92-f409-e24fcbe92d2c"
      },
      "source": [
        "from tensorflow.keras.models import Sequential\n",
        "from tensorflow.keras.layers import Conv2D, Activation, MaxPooling2D, Flatten, Dense\n",
        "from tensorflow.keras.layers import BatchNormalization, Dropout\n",
        "from tensorflow.keras import optimizers\n",
        "\n",
        "model = Sequential()\n",
        "model.add(Conv2D(32, (3, 3), padding='same', input_shape=(32, 32, 3)))\n",
        "model.add(BatchNormalization())\n",
        "model.add(Activation('relu'))\n",
        "model.add(Conv2D(32, (3, 3)))\n",
        "model.add(BatchNormalization())\n",
        "model.add(Activation('relu'))\n",
        "model.add(MaxPooling2D((2, 2)))\n",
        "\n",
        "model.add(Conv2D(64, (3, 3), padding='same'))\n",
        "model.add(BatchNormalization())\n",
        "model.add(Activation('relu'))\n",
        "model.add(Conv2D(64, (3, 3)))\n",
        "model.add(BatchNormalization())\n",
        "model.add(Activation('relu'))\n",
        "model.add(MaxPooling2D((2, 2)))\n",
        "\n",
        "model.add(Conv2D(128, (3, 3), padding='same'))\n",
        "model.add(BatchNormalization())\n",
        "model.add(Activation('relu'))\n",
        "model.add(Conv2D(128, (3, 3)))\n",
        "model.add(BatchNormalization())\n",
        "model.add(Activation('relu'))\n",
        "model.add(MaxPooling2D((2, 2)))\n",
        "\n",
        "model.add(Flatten())\n",
        "model.add(Dropout(0.5))\n",
        "model.add(Dense(512))\n",
        "model.add(BatchNormalization())\n",
        "model.add(Activation('relu'))\n",
        "model.add(Dense(10, activation='softmax'))\n",
        "\n",
        "model.summary()"
      ],
      "execution_count": 41,
      "outputs": [
        {
          "output_type": "stream",
          "text": [
            "Model: \"sequential_6\"\n",
            "_________________________________________________________________\n",
            "Layer (type)                 Output Shape              Param #   \n",
            "=================================================================\n",
            "conv2d_36 (Conv2D)           (None, 32, 32, 32)        896       \n",
            "_________________________________________________________________\n",
            "batch_normalization_42 (Batc (None, 32, 32, 32)        128       \n",
            "_________________________________________________________________\n",
            "activation_42 (Activation)   (None, 32, 32, 32)        0         \n",
            "_________________________________________________________________\n",
            "conv2d_37 (Conv2D)           (None, 30, 30, 32)        9248      \n",
            "_________________________________________________________________\n",
            "batch_normalization_43 (Batc (None, 30, 30, 32)        128       \n",
            "_________________________________________________________________\n",
            "activation_43 (Activation)   (None, 30, 30, 32)        0         \n",
            "_________________________________________________________________\n",
            "max_pooling2d_18 (MaxPooling (None, 15, 15, 32)        0         \n",
            "_________________________________________________________________\n",
            "conv2d_38 (Conv2D)           (None, 15, 15, 64)        18496     \n",
            "_________________________________________________________________\n",
            "batch_normalization_44 (Batc (None, 15, 15, 64)        256       \n",
            "_________________________________________________________________\n",
            "activation_44 (Activation)   (None, 15, 15, 64)        0         \n",
            "_________________________________________________________________\n",
            "conv2d_39 (Conv2D)           (None, 13, 13, 64)        36928     \n",
            "_________________________________________________________________\n",
            "batch_normalization_45 (Batc (None, 13, 13, 64)        256       \n",
            "_________________________________________________________________\n",
            "activation_45 (Activation)   (None, 13, 13, 64)        0         \n",
            "_________________________________________________________________\n",
            "max_pooling2d_19 (MaxPooling (None, 6, 6, 64)          0         \n",
            "_________________________________________________________________\n",
            "conv2d_40 (Conv2D)           (None, 6, 6, 128)         73856     \n",
            "_________________________________________________________________\n",
            "batch_normalization_46 (Batc (None, 6, 6, 128)         512       \n",
            "_________________________________________________________________\n",
            "activation_46 (Activation)   (None, 6, 6, 128)         0         \n",
            "_________________________________________________________________\n",
            "conv2d_41 (Conv2D)           (None, 4, 4, 128)         147584    \n",
            "_________________________________________________________________\n",
            "batch_normalization_47 (Batc (None, 4, 4, 128)         512       \n",
            "_________________________________________________________________\n",
            "activation_47 (Activation)   (None, 4, 4, 128)         0         \n",
            "_________________________________________________________________\n",
            "max_pooling2d_20 (MaxPooling (None, 2, 2, 128)         0         \n",
            "_________________________________________________________________\n",
            "flatten_6 (Flatten)          (None, 512)               0         \n",
            "_________________________________________________________________\n",
            "dropout_6 (Dropout)          (None, 512)               0         \n",
            "_________________________________________________________________\n",
            "dense_12 (Dense)             (None, 512)               262656    \n",
            "_________________________________________________________________\n",
            "batch_normalization_48 (Batc (None, 512)               2048      \n",
            "_________________________________________________________________\n",
            "activation_48 (Activation)   (None, 512)               0         \n",
            "_________________________________________________________________\n",
            "dense_13 (Dense)             (None, 10)                5130      \n",
            "=================================================================\n",
            "Total params: 558,634\n",
            "Trainable params: 556,714\n",
            "Non-trainable params: 1,920\n",
            "_________________________________________________________________\n"
          ],
          "name": "stdout"
        }
      ]
    },
    {
      "cell_type": "code",
      "metadata": {
        "id": "oyCNYKRz8hbH",
        "colab_type": "code",
        "colab": {}
      },
      "source": [
        "from tensorflow.keras import optimizers\n",
        "\n",
        "learning_rate = 1E-4 # to be tuned!\n",
        "\n",
        "model.compile(loss='categorical_crossentropy',\n",
        "              optimizer=optimizers.RMSprop(lr=learning_rate),\n",
        "              metrics=['acc'])"
      ],
      "execution_count": 0,
      "outputs": []
    },
    {
      "cell_type": "code",
      "metadata": {
        "id": "77IEN6OA8hbK",
        "colab_type": "code",
        "colab": {
          "base_uri": "https://localhost:8080/",
          "height": 734
        },
        "outputId": "97d60cc9-19ed-4a38-8ba3-841dbbe5c795"
      },
      "source": [
        "history = model.fit(x_tr, y_tr, batch_size=32, epochs=20, validation_data=(x_val, y_val))"
      ],
      "execution_count": 44,
      "outputs": [
        {
          "output_type": "stream",
          "text": [
            "Train on 40000 samples, validate on 10000 samples\n",
            "Epoch 1/20\n",
            "40000/40000 [==============================] - 16s 403us/sample - loss: 1.6815 - acc: 0.3887 - val_loss: 1.2989 - val_acc: 0.5297\n",
            "Epoch 2/20\n",
            "40000/40000 [==============================] - 14s 362us/sample - loss: 1.2959 - acc: 0.5325 - val_loss: 1.1285 - val_acc: 0.5961\n",
            "Epoch 3/20\n",
            "40000/40000 [==============================] - 14s 362us/sample - loss: 1.1409 - acc: 0.5977 - val_loss: 1.2226 - val_acc: 0.5827\n",
            "Epoch 4/20\n",
            "40000/40000 [==============================] - 14s 358us/sample - loss: 1.0308 - acc: 0.6359 - val_loss: 0.9380 - val_acc: 0.6706\n",
            "Epoch 5/20\n",
            "40000/40000 [==============================] - 14s 357us/sample - loss: 0.9454 - acc: 0.6656 - val_loss: 0.9936 - val_acc: 0.6565\n",
            "Epoch 6/20\n",
            "40000/40000 [==============================] - 14s 359us/sample - loss: 0.8805 - acc: 0.6903 - val_loss: 0.8722 - val_acc: 0.6971\n",
            "Epoch 7/20\n",
            "40000/40000 [==============================] - 14s 358us/sample - loss: 0.8230 - acc: 0.7099 - val_loss: 0.8345 - val_acc: 0.7106\n",
            "Epoch 8/20\n",
            "40000/40000 [==============================] - 14s 358us/sample - loss: 0.7732 - acc: 0.7293 - val_loss: 0.7925 - val_acc: 0.7207\n",
            "Epoch 9/20\n",
            "40000/40000 [==============================] - 14s 360us/sample - loss: 0.7270 - acc: 0.7470 - val_loss: 0.9517 - val_acc: 0.6839\n",
            "Epoch 10/20\n",
            "40000/40000 [==============================] - 14s 356us/sample - loss: 0.6821 - acc: 0.7601 - val_loss: 0.8551 - val_acc: 0.7142\n",
            "Epoch 11/20\n",
            "40000/40000 [==============================] - 14s 357us/sample - loss: 0.6462 - acc: 0.7746 - val_loss: 0.8384 - val_acc: 0.7182\n",
            "Epoch 12/20\n",
            "40000/40000 [==============================] - 14s 357us/sample - loss: 0.6084 - acc: 0.7844 - val_loss: 0.7762 - val_acc: 0.7392\n",
            "Epoch 13/20\n",
            "40000/40000 [==============================] - 14s 357us/sample - loss: 0.5775 - acc: 0.7982 - val_loss: 0.7803 - val_acc: 0.7330\n",
            "Epoch 14/20\n",
            "40000/40000 [==============================] - 14s 359us/sample - loss: 0.5515 - acc: 0.8061 - val_loss: 0.7683 - val_acc: 0.7442\n",
            "Epoch 15/20\n",
            "40000/40000 [==============================] - 14s 357us/sample - loss: 0.5260 - acc: 0.8140 - val_loss: 0.7193 - val_acc: 0.7621\n",
            "Epoch 16/20\n",
            "40000/40000 [==============================] - 14s 358us/sample - loss: 0.4998 - acc: 0.8260 - val_loss: 0.7484 - val_acc: 0.7548\n",
            "Epoch 17/20\n",
            "40000/40000 [==============================] - 14s 357us/sample - loss: 0.4765 - acc: 0.8308 - val_loss: 0.7748 - val_acc: 0.7586\n",
            "Epoch 18/20\n",
            "40000/40000 [==============================] - 14s 358us/sample - loss: 0.4510 - acc: 0.8413 - val_loss: 0.7937 - val_acc: 0.7502\n",
            "Epoch 19/20\n",
            "40000/40000 [==============================] - 14s 355us/sample - loss: 0.4323 - acc: 0.8489 - val_loss: 0.8801 - val_acc: 0.7362\n",
            "Epoch 20/20\n",
            "40000/40000 [==============================] - 14s 359us/sample - loss: 0.4119 - acc: 0.8532 - val_loss: 0.7562 - val_acc: 0.7638\n"
          ],
          "name": "stdout"
        }
      ]
    },
    {
      "cell_type": "code",
      "metadata": {
        "id": "byOw23h_8hbM",
        "colab_type": "code",
        "colab": {
          "base_uri": "https://localhost:8080/",
          "height": 279
        },
        "outputId": "79c39983-d101-4dfc-b8d0-2a0abb109a35"
      },
      "source": [
        "import matplotlib.pyplot as plt\n",
        "%matplotlib inline\n",
        "\n",
        "acc = history.history['acc']\n",
        "val_acc = history.history['val_acc']\n",
        "\n",
        "epochs = range(len(acc))\n",
        "\n",
        "plt.plot(epochs, acc, 'bo', label='Training acc')\n",
        "plt.plot(epochs, val_acc, 'r', label='Validation acc')\n",
        "plt.xlabel('Epochs')\n",
        "plt.ylabel('Accuracy')\n",
        "plt.legend()\n",
        "plt.show()"
      ],
      "execution_count": 45,
      "outputs": [
        {
          "output_type": "display_data",
          "data": {
            "image/png": "[encoded data removed]",
            "text/plain": [
              "<Figure size 432x288 with 1 Axes>"
            ]
          },
          "metadata": {
            "tags": []
          }
        }
      ]
    },
    {
      "cell_type": "code",
      "metadata": {
        "id": "khzSE9eCaneS",
        "colab_type": "code",
        "colab": {
          "base_uri": "https://localhost:8080/",
          "height": 68
        },
        "outputId": "354f3503-dacf-455f-bb78-3a7d023bf331"
      },
      "source": [
        "score = model.evaluate(x_val, y_val, verbose=1)\n",
        "print('Training loss: {0:.4f}\\nTraining accuracy: {1:.4f}'.format(*score))"
      ],
      "execution_count": 46,
      "outputs": [
        {
          "output_type": "stream",
          "text": [
            "10000/10000 [==============================] - 1s 133us/sample - loss: 0.7562 - acc: 0.7638\n",
            "Training loss: 0.7562\n",
            "Training accuracy: 0.7638\n"
          ],
          "name": "stdout"
        }
      ]
    },
    {
      "cell_type": "markdown",
      "metadata": {
        "id": "WdFoWT8_8hbQ",
        "colab_type": "text"
      },
      "source": [
        "## 3. Train (again) and evaluate the model\n",
        "\n",
        "- To this end, you have found the \"best\" hyper-parameters. \n",
        "- Now, fix the hyper-parameters and train the network on the entire training set (all the 50K training samples)\n",
        "- Evaluate your model on the test set."
      ]
    },
    {
      "cell_type": "markdown",
      "metadata": {
        "id": "zbsMA3u48hbR",
        "colab_type": "text"
      },
      "source": [
        "### 3.1. Train the model on the entire training set\n",
        "\n",
        "Why? Previously, you used 40K samples for training; you wasted 10K samples for the sake of hyper-parameter tuning. Now you already know the hyper-parameters, so why not using all the 50K samples for training?"
      ]
    },
    {
      "cell_type": "code",
      "metadata": {
        "id": "7L9QwbPk8hbS",
        "colab_type": "code",
        "colab": {}
      },
      "source": [
        "<Compile your model again (using the same hyper-parameters)>\n",
        "..."
      ],
      "execution_count": 0,
      "outputs": []
    },
    {
      "cell_type": "code",
      "metadata": {
        "id": "bVRLJ1Cb8hbV",
        "colab_type": "code",
        "colab": {}
      },
      "source": [
        "<Train your model on the entire training set (50K samples)>\n",
        "<Use (x_train, y_train_vec) instead of (x_tr, y_tr)>\n",
        "<Do NOT use the validation_data option (because now you do not have validation data)>\n",
        "..."
      ],
      "execution_count": 0,
      "outputs": []
    },
    {
      "cell_type": "code",
      "metadata": {
        "id": "L_IA_zfeLre7",
        "colab_type": "code",
        "colab": {}
      },
      "source": [
        "from keras.preprocessing.image import ImageDataGenerator\n",
        "from tensorflow.keras import optimizers\n",
        "\n",
        "datagen = ImageDataGenerator(\n",
        "        rotation_range=40,\n",
        "        width_shift_range=0.2,\n",
        "        height_shift_range=0.2,\n",
        "        shear_range=0.2,\n",
        "        zoom_range=0.2,\n",
        "        horizontal_flip=True,)\n",
        "datagen.fit(x_train)"
      ],
      "execution_count": 0,
      "outputs": []
    },
    {
      "cell_type": "code",
      "metadata": {
        "id": "uRhJUaVE33e7",
        "colab_type": "code",
        "colab": {
          "base_uri": "https://localhost:8080/",
          "height": 1000
        },
        "outputId": "97ed5a2e-7c43-4c35-f9d0-1185503c20a7"
      },
      "source": [
        "from tensorflow.keras.models import Sequential\n",
        "from tensorflow.keras.layers import Conv2D, Activation, MaxPooling2D, Flatten, Dense\n",
        "from tensorflow.keras.layers import BatchNormalization, Dropout\n",
        "from tensorflow.keras import optimizers\n",
        "\n",
        "model2 = Sequential()\n",
        "model2.add(Conv2D(32, (3, 3), padding='same', input_shape=(32, 32, 3)))\n",
        "model2.add(BatchNormalization())\n",
        "model2.add(Activation('relu'))\n",
        "model2.add(Conv2D(32, (3, 3)))\n",
        "model2.add(BatchNormalization())\n",
        "model2.add(Activation('relu'))\n",
        "model2.add(MaxPooling2D((2, 2)))\n",
        "\n",
        "model2.add(Conv2D(64, (3, 3), padding='same'))\n",
        "model2.add(BatchNormalization())\n",
        "model2.add(Activation('relu'))\n",
        "model2.add(Conv2D(64, (3, 3)))\n",
        "model2.add(BatchNormalization())\n",
        "model2.add(Activation('relu'))\n",
        "model2.add(MaxPooling2D((2, 2)))\n",
        "\n",
        "model2.add(Conv2D(128, (3, 3), padding='same'))\n",
        "model2.add(BatchNormalization())\n",
        "model2.add(Activation('relu'))\n",
        "model2.add(Conv2D(128, (3, 3)))\n",
        "model2.add(BatchNormalization())\n",
        "model2.add(Activation('relu'))\n",
        "model2.add(MaxPooling2D((2, 2)))\n",
        "\n",
        "model2.add(Flatten())\n",
        "model2.add(Dropout(0.5))\n",
        "model2.add(Dense(512))\n",
        "model2.add(BatchNormalization())\n",
        "model2.add(Activation('relu'))\n",
        "model2.add(Dense(10, activation='softmax'))\n",
        "\n",
        "model2.summary()"
      ],
      "execution_count": 56,
      "outputs": [
        {
          "output_type": "stream",
          "text": [
            "Model: \"sequential_9\"\n",
            "_________________________________________________________________\n",
            "Layer (type)                 Output Shape              Param #   \n",
            "=================================================================\n",
            "conv2d_54 (Conv2D)           (None, 32, 32, 32)        896       \n",
            "_________________________________________________________________\n",
            "batch_normalization_63 (Batc (None, 32, 32, 32)        128       \n",
            "_________________________________________________________________\n",
            "activation_63 (Activation)   (None, 32, 32, 32)        0         \n",
            "_________________________________________________________________\n",
            "conv2d_55 (Conv2D)           (None, 30, 30, 32)        9248      \n",
            "_________________________________________________________________\n",
            "batch_normalization_64 (Batc (None, 30, 30, 32)        128       \n",
            "_________________________________________________________________\n",
            "activation_64 (Activation)   (None, 30, 30, 32)        0         \n",
            "_________________________________________________________________\n",
            "max_pooling2d_27 (MaxPooling (None, 15, 15, 32)        0         \n",
            "_________________________________________________________________\n",
            "conv2d_56 (Conv2D)           (None, 15, 15, 64)        18496     \n",
            "_________________________________________________________________\n",
            "batch_normalization_65 (Batc (None, 15, 15, 64)        256       \n",
            "_________________________________________________________________\n",
            "activation_65 (Activation)   (None, 15, 15, 64)        0         \n",
            "_________________________________________________________________\n",
            "conv2d_57 (Conv2D)           (None, 13, 13, 64)        36928     \n",
            "_________________________________________________________________\n",
            "batch_normalization_66 (Batc (None, 13, 13, 64)        256       \n",
            "_________________________________________________________________\n",
            "activation_66 (Activation)   (None, 13, 13, 64)        0         \n",
            "_________________________________________________________________\n",
            "max_pooling2d_28 (MaxPooling (None, 6, 6, 64)          0         \n",
            "_________________________________________________________________\n",
            "conv2d_58 (Conv2D)           (None, 6, 6, 128)         73856     \n",
            "_________________________________________________________________\n",
            "batch_normalization_67 (Batc (None, 6, 6, 128)         512       \n",
            "_________________________________________________________________\n",
            "activation_67 (Activation)   (None, 6, 6, 128)         0         \n",
            "_________________________________________________________________\n",
            "conv2d_59 (Conv2D)           (None, 4, 4, 128)         147584    \n",
            "_________________________________________________________________\n",
            "batch_normalization_68 (Batc (None, 4, 4, 128)         512       \n",
            "_________________________________________________________________\n",
            "activation_68 (Activation)   (None, 4, 4, 128)         0         \n",
            "_________________________________________________________________\n",
            "max_pooling2d_29 (MaxPooling (None, 2, 2, 128)         0         \n",
            "_________________________________________________________________\n",
            "flatten_9 (Flatten)          (None, 512)               0         \n",
            "_________________________________________________________________\n",
            "dropout_9 (Dropout)          (None, 512)               0         \n",
            "_________________________________________________________________\n",
            "dense_18 (Dense)             (None, 512)               262656    \n",
            "_________________________________________________________________\n",
            "batch_normalization_69 (Batc (None, 512)               2048      \n",
            "_________________________________________________________________\n",
            "activation_69 (Activation)   (None, 512)               0         \n",
            "_________________________________________________________________\n",
            "dense_19 (Dense)             (None, 10)                5130      \n",
            "=================================================================\n",
            "Total params: 558,634\n",
            "Trainable params: 556,714\n",
            "Non-trainable params: 1,920\n",
            "_________________________________________________________________\n"
          ],
          "name": "stdout"
        }
      ]
    },
    {
      "cell_type": "code",
      "metadata": {
        "id": "13QpHp063tdY",
        "colab_type": "code",
        "colab": {
          "base_uri": "https://localhost:8080/",
          "height": 391
        },
        "outputId": "b7e9d9a3-4c24-4273-e060-e84abfd0f4c5"
      },
      "source": [
        "learning_rate = 1E-4 # to be tuned!\n",
        "model2.compile(loss='categorical_crossentropy',\n",
        "              optimizer=optimizers.RMSprop(lr=learning_rate),\n",
        "              metrics=['acc'])\n",
        "model2.fit_generator(datagen.flow(x_train, y_train_vec, batch_size=32),\n",
        "                    steps_per_epoch=x_train.shape[0] // 32,\n",
        "                    epochs=100)"
      ],
      "execution_count": 57,
      "outputs": [
        {
          "output_type": "stream",
          "text": [
            "1562/1562 [==============================] - 34s 22ms/step - loss: 0.6862 - acc: 0.7662\n",
            "Epoch 91/100\n",
            "1562/1562 [==============================] - 34s 22ms/step - loss: 0.6789 - acc: 0.7717\n",
            "Epoch 92/100\n",
            "1562/1562 [==============================] - 34s 22ms/step - loss: 0.6781 - acc: 0.7712\n",
            "Epoch 93/100\n",
            "1562/1562 [==============================] - 34s 22ms/step - loss: 0.6804 - acc: 0.7694\n",
            "Epoch 94/100\n",
            "1562/1562 [==============================] - 34s 22ms/step - loss: 0.6778 - acc: 0.7715\n",
            "Epoch 95/100\n",
            "1562/1562 [==============================] - 34s 22ms/step - loss: 0.6791 - acc: 0.7716\n",
            "Epoch 96/100\n",
            "1562/1562 [==============================] - 34s 22ms/step - loss: 0.6728 - acc: 0.7709\n",
            "Epoch 97/100\n",
            "1562/1562 [==============================] - 34s 22ms/step - loss: 0.6738 - acc: 0.7724\n",
            "Epoch 98/100\n",
            "1562/1562 [==============================] - 34s 22ms/step - loss: 0.6693 - acc: 0.7710\n",
            "Epoch 99/100\n",
            "1562/1562 [==============================] - 34s 22ms/step - loss: 0.6654 - acc: 0.7749\n",
            "Epoch 100/100\n",
            "1562/1562 [==============================] - 34s 22ms/step - loss: 0.6652 - acc: 0.7745\n"
          ],
          "name": "stdout"
        },
        {
          "output_type": "execute_result",
          "data": {
            "text/plain": [
              "<tensorflow.python.keras.callbacks.History at 0x7f8d825e0f60>"
            ]
          },
          "metadata": {
            "tags": []
          },
          "execution_count": 57
        }
      ]
    },
    {
      "cell_type": "markdown",
      "metadata": {
        "id": "bJ5n10BA8hbY",
        "colab_type": "text"
      },
      "source": [
        "### 3.2. Evaluate the model on the test set\n",
        "\n",
        "Do NOT used the test set until now. Make sure that your model parameters and hyper-parameters are independent of the test set."
      ]
    },
    {
      "cell_type": "code",
      "metadata": {
        "id": "bUa6o51m8hbY",
        "colab_type": "code",
        "colab": {
          "base_uri": "https://localhost:8080/",
          "height": 68
        },
        "outputId": "b6eeb238-269b-4fd3-9eef-f96dc9b28252"
      },
      "source": [
        "loss_and_acc = model2.evaluate(x_test, y_test_vec)\n",
        "print('loss = ' + str(loss_and_acc[0]))\n",
        "print('accuracy = ' + str(loss_and_acc[1]))"
      ],
      "execution_count": 59,
      "outputs": [
        {
          "output_type": "stream",
          "text": [
            "10000/10000 [==============================] - 1s 141us/sample - loss: 0.6463 - acc: 0.7998\n",
            "loss = 0.646286302280426\n",
            "accuracy = 0.7998\n"
          ],
          "name": "stdout"
        }
      ]
    }
  ]
}