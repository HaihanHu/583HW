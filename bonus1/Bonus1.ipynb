{
 "cells": [
  {
   "cell_type": "markdown",
   "metadata": {},
   "source": [
    "# Bonus1: Parallel Algorithms\n",
    "\n",
    "### Name: [Haihan Hu]\n"
   ]
  },
  {
   "cell_type": "markdown",
   "metadata": {},
   "source": [
    "## 0. You will do the following:\n",
    "\n",
    "1. Read the lecture note: [click here](https://github.com/wangshusen/DeepLearning/blob/master/LectureNotes/Parallel/Parallel.pdf)\n",
    "\n",
    "2. Implement federated averaging or decentralized optimization.\n",
    "\n",
    "3. Plot the convergence curve. (The x-axis can be ```number of epochs``` or ```number of communication```. You must make sure the label is correct.)\n",
    "\n",
    "4. Convert the .IPYNB file to .HTML file.\n",
    "\n",
    "    * The HTML file must contain **the code** and **the output after execution**.\n",
    "    \n",
    "5. Upload this .HTML file to your Google Drive, Dropbox, or your Github repo. (If it is submitted to Google Drive or Dropbox, you must make the file open-access.)\n",
    "\n",
    "6. Submit the link to this .HTML file to Canvas.\n",
    "\n",
    "    * Example: https://github.com/wangshusen/CS583-2020S/blob/master/homework/Bonus1/Bonus1.html\n",
    "\n"
   ]
  },
  {
   "cell_type": "code",
   "execution_count": null,
   "metadata": {},
   "outputs": [],
   "source": []
  },
  {
   "cell_type": "markdown",
   "metadata": {},
   "source": [
    "# 1. Data processing\n",
    "\n",
    "- Download the Diabete dataset from https://www.csie.ntu.edu.tw/~cjlin/libsvmtools/datasets/binary/diabetes\n",
    "- Load the data using sklearn.\n",
    "- Preprocess the data."
   ]
  },
  {
   "cell_type": "markdown",
   "metadata": {},
   "source": [
    "## 1.1. Load the data"
   ]
  },
  {
   "cell_type": "code",
   "execution_count": 1,
   "metadata": {},
   "outputs": [
    {
     "name": "stdout",
     "output_type": "stream",
     "text": [
      "Shape of x: (768, 8)\n",
      "Shape of y: (768,)\n"
     ]
    }
   ],
   "source": [
    "from sklearn import datasets\n",
    "import numpy\n",
    "\n",
    "x_sparse, y = datasets.load_svmlight_file('/Users/shirleyhu/Documents/GitHub/CS583-2020S/homework/Bonus1/diabetes')\n",
    "x = x_sparse.todense()\n",
    "\n",
    "print('Shape of x: ' + str(x.shape))\n",
    "print('Shape of y: ' + str(y.shape))"
   ]
  },
  {
   "cell_type": "markdown",
   "metadata": {},
   "source": [
    "## 1.2. Partition to training and test sets"
   ]
  },
  {
   "cell_type": "code",
   "execution_count": 2,
   "metadata": {},
   "outputs": [
    {
     "name": "stdout",
     "output_type": "stream",
     "text": [
      "Shape of x_train: (640, 8)\n",
      "Shape of x_test: (128, 8)\n",
      "Shape of y_train: (640, 1)\n",
      "Shape of y_test: (128, 1)\n"
     ]
    }
   ],
   "source": [
    "# partition the data to training and test sets\n",
    "n = x.shape[0]\n",
    "n_train = 640\n",
    "n_test = n - n_train\n",
    "\n",
    "rand_indices = numpy.random.permutation(n)\n",
    "train_indices = rand_indices[0:n_train]\n",
    "test_indices = rand_indices[n_train:n]\n",
    "\n",
    "x_train = x[train_indices, :]\n",
    "x_test = x[test_indices, :]\n",
    "y_train = y[train_indices].reshape(n_train, 1)\n",
    "y_test = y[test_indices].reshape(n_test, 1)\n",
    "\n",
    "print('Shape of x_train: ' + str(x_train.shape))\n",
    "print('Shape of x_test: ' + str(x_test.shape))\n",
    "print('Shape of y_train: ' + str(y_train.shape))\n",
    "print('Shape of y_test: ' + str(y_test.shape))"
   ]
  },
  {
   "cell_type": "markdown",
   "metadata": {},
   "source": [
    "## 1.3. Feature scaling"
   ]
  },
  {
   "cell_type": "markdown",
   "metadata": {},
   "source": [
    "Use the standardization to trainsform both training and test features"
   ]
  },
  {
   "cell_type": "code",
   "execution_count": 3,
   "metadata": {},
   "outputs": [
    {
     "name": "stdout",
     "output_type": "stream",
     "text": [
      "test mean = \n",
      "[[ 0.09203579  0.11798655  0.15407154 -0.03566845  0.00191325  0.03096073\n",
      "  -0.02264842  0.00974766]]\n",
      "test std = \n",
      "[[1.03700466 1.06240542 0.81732097 0.99810084 0.95793568 0.94586562\n",
      "  0.82413056 1.02585615]]\n"
     ]
    }
   ],
   "source": [
    "# Standardization\n",
    "import numpy\n",
    "\n",
    "# calculate mu and sig using the training set\n",
    "d = x_train.shape[1]\n",
    "mu = numpy.mean(x_train, axis=0).reshape(1, d)\n",
    "sig = numpy.std(x_train, axis=0).reshape(1, d)\n",
    "\n",
    "# transform the training features\n",
    "x_train = (x_train - mu) / (sig + 1E-6)\n",
    "\n",
    "# transform the test features\n",
    "x_test = (x_test - mu) / (sig + 1E-6)\n",
    "\n",
    "print('test mean = ')\n",
    "print(numpy.mean(x_test, axis=0))\n",
    "\n",
    "print('test std = ')\n",
    "print(numpy.std(x_test, axis=0))"
   ]
  },
  {
   "cell_type": "markdown",
   "metadata": {},
   "source": [
    "## 1.4. Add a dimension of all ones"
   ]
  },
  {
   "cell_type": "code",
   "execution_count": 4,
   "metadata": {},
   "outputs": [
    {
     "name": "stdout",
     "output_type": "stream",
     "text": [
      "Shape of x_train: (640, 9)\n",
      "Shape of x_test: (128, 9)\n"
     ]
    }
   ],
   "source": [
    "n_train, d = x_train.shape\n",
    "x_train = numpy.concatenate((x_train, numpy.ones((n_train, 1))), axis=1)\n",
    "\n",
    "n_test, d = x_test.shape\n",
    "x_test = numpy.concatenate((x_test, numpy.ones((n_test, 1))), axis=1)\n",
    "\n",
    "print('Shape of x_train: ' + str(x_train.shape))\n",
    "print('Shape of x_test: ' + str(x_test.shape))"
   ]
  },
  {
   "cell_type": "markdown",
   "metadata": {},
   "source": [
    "## 2. Design worker nodes and the server"
   ]
  },
  {
   "cell_type": "code",
   "execution_count": 5,
   "metadata": {},
   "outputs": [],
   "source": [
    "def objective(w, x, y, lam):\n",
    "    n, d = x.shape\n",
    "    yx = numpy.multiply(y, x)\n",
    "    yxw = numpy.dot(yx, w)\n",
    "    vec1 = numpy.exp(-yxw)\n",
    "    vec2 = numpy.log(1+vec1)\n",
    "    loss = numpy.sum(vec2)\n",
    "    reg = lam/2 * numpy.sum(w * w) \n",
    "    return loss + reg    "
   ]
  },
  {
   "cell_type": "code",
   "execution_count": 6,
   "metadata": {},
   "outputs": [],
   "source": [
    "def gradient(w, x, y, lam): \n",
    "    n, d = x.shape\n",
    "    yx = numpy.multiply(y, x)\n",
    "    yxw = numpy.dot(yx, w)\n",
    "    vec1 = numpy.exp(yxw)\n",
    "    vec2 = numpy.divide(yx, 1+vec1)\n",
    "    vec3 = -numpy.mean(vec2, axis=0).reshape(d, 1)\n",
    "    g = vec3 + lam * w\n",
    "    return g"
   ]
  },
  {
   "cell_type": "code",
   "execution_count": 7,
   "metadata": {},
   "outputs": [],
   "source": [
    "def stochastic_objective_gradient(w, xi, yi, lam):\n",
    "    d = xi.shape[0]\n",
    "    yx = yi * xi # 1-by-d matrix\n",
    "    yxw = float(numpy.dot(yx, w)) \n",
    "    loss = numpy.log(1 + numpy.exp(-yxw)) \n",
    "    reg = lam / 2 * numpy.sum(w * w) \n",
    "    obj = loss + reg\n",
    "    g_loss = -yx.T / (1 + numpy.exp(yxw)) \n",
    "    g = g_loss + lam * w \n",
    "    return obj, g"
   ]
  },
  {
   "cell_type": "code",
   "execution_count": 8,
   "metadata": {},
   "outputs": [],
   "source": [
    "class Worker:\n",
    "    def __init__(self, x, y):\n",
    "        self.x = x # s-by-d feature matrix\n",
    "        self.y = y # s-by-1 label matrix\n",
    "        self.s = x.shape[0]\n",
    "        self.d = x.shape[1]\n",
    "        self.w = numpy.zeros((d, 1)) # d-by-1 parameter vector\n",
    "    def set_param(self, w):\n",
    "        self.w = w    \n",
    "    def loss(self, lam): \n",
    "        yx = numpy.multiply(self.y, self.x)\n",
    "        yxw = numpy.dot(yx, self.w)\n",
    "        vec1 = numpy.exp(-yxw)\n",
    "        vec2 = numpy.log(1+vec1)\n",
    "        reg = lam/2 * numpy.sum(self.w * self.w) \n",
    "        return  numpy.sum(vec2) + reg    \n",
    "    def grad_descent(self, q, alpha, lam): \n",
    "        objvals = numpy.zeros(q)\n",
    "        w = self.w\n",
    "        for t in range(q): # q local iterations\n",
    "            objval = objective(w, self.x, self.y, lam)\n",
    "            g = gradient(w, self.x, self.y, lam)\n",
    "            w -= alpha * g\n",
    "            objvals[t] = objval\n",
    "            alpha *= 0.9 # decrease the leaining rate alpha\n",
    "        g = self.w - w\n",
    "        return g, objval\n",
    "    def sgd(self, q, alpha, lam):\n",
    "        objvals = numpy.zeros(q)\n",
    "        w = self.w\n",
    "        for t in range(q):\n",
    "        # randomly shuffle the samples\n",
    "            rand_indices = numpy.random.permutation(self.s)\n",
    "            x_rand = self.x[rand_indices, :]\n",
    "            y_rand = self.y[rand_indices, :]\n",
    "            objval = 0 # accumulate the objective values            \n",
    "            for i in range(self.s):\n",
    "                xi = x_rand[i, :] # 1-by-d matrix\n",
    "                yi = float(y_rand[i, :]) \n",
    "                obj, g = stochastic_objective_gradient(w, xi, yi, lam)\n",
    "                objval += obj\n",
    "                w -= alpha * g\n",
    "            objvals[t] = objval\n",
    "            alpha *= 0.9 # decrease step size\n",
    "        \n",
    "        g = self.w - w\n",
    "        return g, objval"
   ]
  },
  {
   "cell_type": "code",
   "execution_count": 9,
   "metadata": {},
   "outputs": [],
   "source": [
    "class Server:\n",
    "    def __init__(self, m, n, d):\n",
    "        self.m = m # number of worker nodes\n",
    "        self.n = n # number of traning samples\n",
    "        self.d = d # number of features\n",
    "        self.w = numpy.zeros((d, 1))##d−by−1 model parameter vector \n",
    "        self.g = numpy.zeros((d, 1)) # d−by−1 gradient\n",
    "        self.v = numpy.zeros((d, 1)) # d−by−1 momentum\n",
    "        self.loss = 0 # loss function value\n",
    "        self.obj = 0 # objective function value\n",
    "    def broadcast(self): \n",
    "        return self.w\n",
    "    \n",
    "    # Sum the gradients and loss functions evaluated by the workers \n",
    "    # Args:\n",
    "    #   grads: a list of d−by−1 vectors\n",
    "    #   losses : a list of scalars\n",
    "    def aggregate(self, grads, losses): \n",
    "        self.g = numpy.zeros((self.d, 1)) \n",
    "        self.loss=0\n",
    "        for k in range(self.m):\n",
    "            self.g += grads[k]\n",
    "            self.loss += losses[k]\n",
    "    \n",
    "    # Compute the gradient (from the loss and regularization )\n",
    "    def gradient(self, lam):\n",
    "        self.g = self.g / self.n \n",
    "    \n",
    "    # Compute the objective function (sum of loss and regularization )\n",
    "    def objective(self, lam):\n",
    "        self.obj = self.loss / self.n \n",
    "        return self.obj\n",
    "    \n",
    "    # Update the model parameters using gradient descent \n",
    "    # Args:\n",
    "    #   alpha: learning rate (step size)\n",
    "    def agd(self, alpha, beta):\n",
    "        self.v *= beta\n",
    "        self.v += self.g\n",
    "        self.w -= alpha * self.v       "
   ]
  },
  {
   "cell_type": "markdown",
   "metadata": {},
   "source": [
    "## 3. Initialization"
   ]
  },
  {
   "cell_type": "code",
   "execution_count": 10,
   "metadata": {},
   "outputs": [],
   "source": [
    "import math\n",
    "\n",
    "# Create a server and m worker nodes\n",
    "def create_server_workers(m, x, y): \n",
    "    n, d = x.shape\n",
    "    s = math.floor(n / m) \n",
    "    server = Server(m, n, d) \n",
    "    workers = []\n",
    "\n",
    "    for i in range(m):\n",
    "        indices = list(range(i*s, (i+1)*s))\n",
    "        worker = Worker(x[indices, :], y[indices, :]) \n",
    "        workers.append(worker)\n",
    "    return server, workers"
   ]
  },
  {
   "cell_type": "markdown",
   "metadata": {},
   "source": [
    "## 4. Performing federated averaging"
   ]
  },
  {
   "cell_type": "markdown",
   "metadata": {},
   "source": [
    "### 4.1 Federated GD with q =1"
   ]
  },
  {
   "cell_type": "code",
   "execution_count": 11,
   "metadata": {},
   "outputs": [],
   "source": [
    "m = 4 # number of worker nodes\n",
    "server, workers = create_server_workers(m, x_train, y_train)"
   ]
  },
  {
   "cell_type": "code",
   "execution_count": 12,
   "metadata": {},
   "outputs": [
    {
     "name": "stdout",
     "output_type": "stream",
     "text": [
      "Objective function value = 0.6761263283191563\n",
      "Objective function value = 0.6371745416377063\n",
      "Objective function value = 0.6084098080186553\n",
      "Objective function value = 0.5866194583014529\n",
      "Objective function value = 0.5696923171234575\n",
      "Objective function value = 0.5562428825060934\n",
      "Objective function value = 0.545346217777778\n",
      "Objective function value = 0.5363699625176943\n",
      "Objective function value = 0.5288707561910803\n",
      "Objective function value = 0.5225301050057871\n",
      "Objective function value = 0.5171139958779313\n",
      "Objective function value = 0.5124469135893681\n",
      "Objective function value = 0.508394744620717\n",
      "Objective function value = 0.5048532782753694\n",
      "Objective function value = 0.5017403094432461\n",
      "Objective function value = 0.49899010782160225\n",
      "Objective function value = 0.4965494732741643\n",
      "Objective function value = 0.4943748744149641\n",
      "Objective function value = 0.49243034005184444\n",
      "Objective function value = 0.49068588253380174\n",
      "Objective function value = 0.48911630270481277\n",
      "Objective function value = 0.4877002725975658\n",
      "Objective function value = 0.48641962301273833\n",
      "Objective function value = 0.48525878416317847\n",
      "Objective function value = 0.484204342035253\n",
      "Objective function value = 0.4832446832141125\n",
      "Objective function value = 0.4823697080509609\n",
      "Objective function value = 0.4815705971497179\n",
      "Objective function value = 0.48083961983883217\n",
      "Objective function value = 0.4801699759910624\n",
      "Objective function value = 0.47955566454678317\n",
      "Objective function value = 0.478991373583362\n",
      "Objective function value = 0.47847238789325675\n",
      "Objective function value = 0.47799451088486133\n",
      "Objective function value = 0.47755399827282907\n",
      "Objective function value = 0.47714750152911956\n",
      "Objective function value = 0.47677201945904474\n",
      "Objective function value = 0.47642485657506456\n",
      "Objective function value = 0.47610358718490975\n",
      "Objective function value = 0.4758060243046482\n",
      "Objective function value = 0.4755301926627178\n",
      "Objective function value = 0.4752743051861673\n",
      "Objective function value = 0.47503674246183636\n",
      "Objective function value = 0.47481603474789746\n",
      "Objective function value = 0.474610846178921\n",
      "Objective function value = 0.4744199608633742\n",
      "Objective function value = 0.4742422706185635\n",
      "Objective function value = 0.47407676412632027\n",
      "Objective function value = 0.4739225173246533\n",
      "Objective function value = 0.47377868487732594\n"
     ]
    }
   ],
   "source": [
    "lam = 1E-6 # regularization parameter\n",
    "alpha = 0.1 # learning rate\n",
    "beta = 0.9 # momentum parameter\n",
    "q = 1 # the number of local iterations\n",
    "max_epoch = 50 \n",
    "objvals_gd1 = []\n",
    "\n",
    "for t in range(max_epoch):\n",
    "    # step 1: broadcast\n",
    "    w = server.broadcast()\n",
    "    for i in range(m):\n",
    "        workers[i].set_param(w)\n",
    "    # step 2: workers local computations\n",
    "    grads = []\n",
    "    losses = []\n",
    "    for i in range(m):\n",
    "        g, l = workers[i].grad_descent(q, alpha, lam)\n",
    "        grads.append(g)\n",
    "        losses.append(l)        \n",
    "    # step 3: aggregate workers' outputs\n",
    "    server.aggregate(grads, losses)\n",
    "    # step 4: server update the model parameters\n",
    "    server.gradient(lam)\n",
    "    obj = server.objective(lam)\n",
    "    objvals_gd1.append(obj)\n",
    "    print('Objective function value = ' + str(obj))\n",
    "    server.agd(alpha, beta)"
   ]
  },
  {
   "cell_type": "markdown",
   "metadata": {},
   "source": [
    "### 4.2 Federated GD with q = 8"
   ]
  },
  {
   "cell_type": "code",
   "execution_count": 13,
   "metadata": {},
   "outputs": [],
   "source": [
    "m = 4 # number of worker nodes\n",
    "server, workers = create_server_workers(m, x_train, y_train)"
   ]
  },
  {
   "cell_type": "code",
   "execution_count": 14,
   "metadata": {},
   "outputs": [
    {
     "name": "stdout",
     "output_type": "stream",
     "text": [
      "Objective function value = 0.5898311375084921\n",
      "Objective function value = 0.5241972720652786\n",
      "Objective function value = 0.49984033142779294\n",
      "Objective function value = 0.48792061078366106\n",
      "Objective function value = 0.4813093917749539\n",
      "Objective function value = 0.47737181593772443\n",
      "Objective function value = 0.47491367716498567\n",
      "Objective function value = 0.47332625190522093\n",
      "Objective function value = 0.47227448096565594\n",
      "Objective function value = 0.47156347403611126\n",
      "Objective function value = 0.4710750054844299\n",
      "Objective function value = 0.4707349427938149\n",
      "Objective function value = 0.47049554848662245\n",
      "Objective function value = 0.4703254083099129\n",
      "Objective function value = 0.47020347684426317\n",
      "Objective function value = 0.47011544346645906\n",
      "Objective function value = 0.4700514542225459\n",
      "Objective function value = 0.47000465095805843\n",
      "Objective function value = 0.46997021630938784\n",
      "Objective function value = 0.4699447390554221\n",
      "Objective function value = 0.46992578639302673\n",
      "Objective function value = 0.4699116121622121\n",
      "Objective function value = 0.46990095571656365\n",
      "Objective function value = 0.4698929020093667\n",
      "Objective function value = 0.46988678348302776\n",
      "Objective function value = 0.4698821107840419\n",
      "Objective function value = 0.46987852352489323\n",
      "Objective function value = 0.4698757550930684\n",
      "Objective function value = 0.4698736073690914\n",
      "Objective function value = 0.4698719324764828\n",
      "Objective function value = 0.46987061954896836\n",
      "Objective function value = 0.4698695850951518\n",
      "Objective function value = 0.4698687659543664\n",
      "Objective function value = 0.46986811412679846\n",
      "Objective function value = 0.4698675929647167\n",
      "Objective function value = 0.46986717435589886\n",
      "Objective function value = 0.46986683663296364\n",
      "Objective function value = 0.4698665630156789\n",
      "Objective function value = 0.4698663404459545\n",
      "Objective function value = 0.4698661587131589\n",
      "Objective function value = 0.46986600979482596\n",
      "Objective function value = 0.4698658873577138\n",
      "Objective function value = 0.46986578637866633\n",
      "Objective function value = 0.4698657028553022\n",
      "Objective function value = 0.46986563358430444\n",
      "Objective function value = 0.4698655759907743\n",
      "Objective function value = 0.4698655279963078\n",
      "Objective function value = 0.4698654879165516\n",
      "Objective function value = 0.46986545438129196\n",
      "Objective function value = 0.4698654262718381\n"
     ]
    }
   ],
   "source": [
    "lam = 1E-6 # regularization parameter\n",
    "alpha = 0.1 # learning rate\n",
    "beta = 0.9 # momentum parameter\n",
    "q = 8 # the number of local iterations\n",
    "max_epoch = 50 \n",
    "objvals_gd8 = []\n",
    "\n",
    "for t in range(max_epoch):\n",
    "    # step 1: broadcast\n",
    "    w = server.broadcast()\n",
    "    for i in range(m):\n",
    "        workers[i].set_param(w)\n",
    "    # step 2: workers local computations\n",
    "    grads = []\n",
    "    losses = []\n",
    "    for i in range(m):\n",
    "        g, l = workers[i].grad_descent(q, alpha, lam)\n",
    "        grads.append(g)\n",
    "        losses.append(l)        \n",
    "    # step 3: aggregate workers' outputs\n",
    "    server.aggregate(grads, losses)\n",
    "    # step 4: server update the model parameters\n",
    "    server.gradient(lam)\n",
    "    obj = server.objective(lam)\n",
    "    objvals_gd8.append(obj)\n",
    "    print('Objective function value = ' + str(obj))\n",
    "    server.agd(alpha, beta)"
   ]
  },
  {
   "cell_type": "markdown",
   "metadata": {},
   "source": [
    "### 4.3 Federated SGD with q = 1"
   ]
  },
  {
   "cell_type": "code",
   "execution_count": 15,
   "metadata": {},
   "outputs": [],
   "source": [
    "m = 4 # number of worker nodes\n",
    "server, workers = create_server_workers(m, x_train, y_train)"
   ]
  },
  {
   "cell_type": "code",
   "execution_count": 16,
   "metadata": {},
   "outputs": [
    {
     "name": "stdout",
     "output_type": "stream",
     "text": [
      "Objective function value = 0.6601033745623255\n",
      "Objective function value = 0.6098668256920492\n",
      "Objective function value = 0.5774384906386448\n",
      "Objective function value = 0.5552610721379968\n",
      "Objective function value = 0.5392988700380212\n",
      "Objective function value = 0.5274000580674318\n",
      "Objective function value = 0.5182132257369756\n",
      "Objective function value = 0.5109800551685542\n",
      "Objective function value = 0.5051674856244037\n",
      "Objective function value = 0.5004264215191513\n",
      "Objective function value = 0.49650079676219594\n",
      "Objective function value = 0.4932420391160339\n",
      "Objective function value = 0.49050018685873553\n",
      "Objective function value = 0.4881742554487952\n",
      "Objective function value = 0.48619172182518644\n",
      "Objective function value = 0.484491134944916\n",
      "Objective function value = 0.4830272297632877\n",
      "Objective function value = 0.4817607727412393\n",
      "Objective function value = 0.4806583110939971\n",
      "Objective function value = 0.47969728864898037\n",
      "Objective function value = 0.4788616157556828\n",
      "Objective function value = 0.4781266629076888\n",
      "Objective function value = 0.47748137550907854\n",
      "Objective function value = 0.47690731219237587\n",
      "Objective function value = 0.47640371883417226\n",
      "Objective function value = 0.4759556768689797\n",
      "Objective function value = 0.47555741166782006\n",
      "Objective function value = 0.4752012640806522\n",
      "Objective function value = 0.4748910228273616\n",
      "Objective function value = 0.47461033532950153\n",
      "Objective function value = 0.4743602487924238\n",
      "Objective function value = 0.47413644569144653\n",
      "Objective function value = 0.47393516190433954\n",
      "Objective function value = 0.4737550696364051\n",
      "Objective function value = 0.47359253143342867\n",
      "Objective function value = 0.4734456816545352\n",
      "Objective function value = 0.4733146314885902\n",
      "Objective function value = 0.47319710504805174\n",
      "Objective function value = 0.47309150509449427\n",
      "Objective function value = 0.47299372016090013\n",
      "Objective function value = 0.4729066155612525\n",
      "Objective function value = 0.472830307111373\n",
      "Objective function value = 0.47275736293917214\n",
      "Objective function value = 0.4726956872483079\n",
      "Objective function value = 0.4726369362512327\n",
      "Objective function value = 0.4725836363065432\n",
      "Objective function value = 0.472535238032294\n",
      "Objective function value = 0.47249136258735785\n",
      "Objective function value = 0.4724538384726569\n",
      "Objective function value = 0.4724178074243481\n"
     ]
    }
   ],
   "source": [
    "lam = 1E-6 # regularization parameter\n",
    "alpha = 0.001 # learning rate\n",
    "beta = 0.9 # momentum parameter\n",
    "q = 1 # the number of local iterations\n",
    "max_epoch = 50 \n",
    "objvals_sgd1 = []\n",
    "\n",
    "for t in range(max_epoch):\n",
    "    # step 1: broadcast\n",
    "    w = server.broadcast()\n",
    "    for i in range(m):\n",
    "        workers[i].set_param(w)\n",
    "    # step 2: workers local computations\n",
    "    grads = []\n",
    "    losses = []\n",
    "    for i in range(m):\n",
    "        g, l = workers[i].sgd(q, alpha, lam)\n",
    "        grads.append(g)\n",
    "        losses.append(l)        \n",
    "    # step 3: aggregate workers' outputs\n",
    "    server.aggregate(grads, losses)\n",
    "    # step 4: server update the model parameters\n",
    "    server.gradient(lam)\n",
    "    obj = server.objective(lam)\n",
    "    objvals_sgd1.append(obj)\n",
    "    print('Objective function value = ' + str(obj))\n",
    "    server.agd(alpha, beta)"
   ]
  },
  {
   "cell_type": "markdown",
   "metadata": {},
   "source": [
    "### 4.4 Federated SGD with q = 8"
   ]
  },
  {
   "cell_type": "code",
   "execution_count": 17,
   "metadata": {},
   "outputs": [],
   "source": [
    "m = 4 # number of worker nodes\n",
    "server, workers = create_server_workers(m, x_train, y_train)"
   ]
  },
  {
   "cell_type": "code",
   "execution_count": 18,
   "metadata": {},
   "outputs": [
    {
     "name": "stdout",
     "output_type": "stream",
     "text": [
      "Objective function value = 0.5607846954628296\n",
      "Objective function value = 0.5009560947518023\n",
      "Objective function value = 0.48367953212729076\n",
      "Objective function value = 0.47656317357695216\n",
      "Objective function value = 0.4731995342480251\n",
      "Objective function value = 0.4714641274285364\n",
      "Objective function value = 0.4705245618977149\n",
      "Objective function value = 0.4699972485193652\n",
      "Objective function value = 0.4696902405039506\n",
      "Objective function value = 0.46950694756640343\n",
      "Objective function value = 0.4693954990245273\n",
      "Objective function value = 0.4693241539219444\n",
      "Objective function value = 0.46928000104466683\n",
      "Objective function value = 0.46926433487317915\n",
      "Objective function value = 0.4692441236603023\n",
      "Objective function value = 0.46922848891061564\n",
      "Objective function value = 0.4692175300358187\n",
      "Objective function value = 0.4692132824132987\n",
      "Objective function value = 0.4692222522550022\n",
      "Objective function value = 0.4692137419643812\n",
      "Objective function value = 0.46920474698584674\n",
      "Objective function value = 0.4692055516762073\n",
      "Objective function value = 0.4692089253010737\n",
      "Objective function value = 0.46920669254174685\n",
      "Objective function value = 0.4692046368031658\n",
      "Objective function value = 0.46920133432222144\n",
      "Objective function value = 0.4692070255251114\n",
      "Objective function value = 0.46919909059954107\n",
      "Objective function value = 0.4692088964368536\n",
      "Objective function value = 0.4692053529214702\n",
      "Objective function value = 0.46920639293916977\n",
      "Objective function value = 0.4692049287287638\n",
      "Objective function value = 0.46920320532623017\n",
      "Objective function value = 0.4692050999877061\n",
      "Objective function value = 0.4692074348541563\n",
      "Objective function value = 0.4692032539371052\n",
      "Objective function value = 0.46920460422112775\n",
      "Objective function value = 0.4692002409588736\n",
      "Objective function value = 0.4692078749352849\n",
      "Objective function value = 0.469208165733842\n",
      "Objective function value = 0.4692106903834733\n",
      "Objective function value = 0.46920028528586133\n",
      "Objective function value = 0.46920696194394457\n",
      "Objective function value = 0.46920496719412075\n",
      "Objective function value = 0.4692106119079048\n",
      "Objective function value = 0.4692077845259511\n",
      "Objective function value = 0.4692026100251402\n",
      "Objective function value = 0.46920495605838086\n",
      "Objective function value = 0.4692033825139027\n",
      "Objective function value = 0.46920302425989935\n"
     ]
    }
   ],
   "source": [
    "lam = 1E-6 # regularization parameter\n",
    "alpha = 0.001 # learning rate\n",
    "beta = 0.9 # momentum parameter\n",
    "q = 8 # the number of local iterations\n",
    "max_epoch = 50 \n",
    "objvals_sgd8 = []\n",
    "\n",
    "for t in range(max_epoch):\n",
    "    # step 1: broadcast\n",
    "    w = server.broadcast()\n",
    "    for i in range(m):\n",
    "        workers[i].set_param(w)\n",
    "    # step 2: workers local computations\n",
    "    grads = []\n",
    "    losses = []\n",
    "    for i in range(m):\n",
    "        g, l = workers[i].sgd(q, alpha, lam)\n",
    "        grads.append(g)\n",
    "        losses.append(l)        \n",
    "    # step 3: aggregate workers' outputs\n",
    "    server.aggregate(grads, losses)\n",
    "    # step 4: server update the model parameters\n",
    "    server.gradient(lam)\n",
    "    obj = server.objective(lam)\n",
    "    objvals_sgd8.append(obj)\n",
    "    print('Objective function value = ' + str(obj))\n",
    "    server.agd(alpha, beta)"
   ]
  },
  {
   "cell_type": "code",
   "execution_count": 20,
   "metadata": {},
   "outputs": [
    {
     "data": {
      "image/png": "[encoded data removed]",
      "text/plain": [
       "<Figure size 432x288 with 1 Axes>"
      ]
     },
     "metadata": {
      "needs_background": "light"
     },
     "output_type": "display_data"
    }
   ],
   "source": [
    "import matplotlib.pyplot as plt\n",
    "\n",
    "fig = plt.figure(figsize=(6, 4))\n",
    "epochs_gd1 = range(len(objvals_gd1))\n",
    "epochs_gd8 = range(len(objvals_gd8))\n",
    "epochs_sgd1 = range(len(objvals_sgd1))\n",
    "epochs_sgd8 = range(len(objvals_sgd8))\n",
    "line0, = plt.plot(epochs_gd1, objvals_gd1, '--b', LineWidth=2)\n",
    "line1, = plt.plot(epochs_gd8, objvals_gd8, '-r', LineWidth=2)\n",
    "line2, = plt.plot(epochs_sgd1, objvals_sgd1, '--y', LineWidth=2)\n",
    "line3, = plt.plot(epochs_sgd8, objvals_sgd8, '-g', LineWidth=2)\n",
    "\n",
    "plt.xlabel('Epochs', FontSize=20)\n",
    "plt.ylabel('Objective Value', FontSize=20)\n",
    "plt.xticks(FontSize=16)\n",
    "plt.yticks(FontSize=16)\n",
    "plt.legend([line0, line1, line2, line3], ['gd1','gd8', 'sgd1', 'sgd8'], fontsize=20)\n",
    "plt.tight_layout()\n",
    "plt.show()"
   ]
  },
  {
   "cell_type": "code",
   "execution_count": null,
   "metadata": {},
   "outputs": [],
   "source": []
  }
 ],
 "metadata": {
  "kernelspec": {
   "display_name": "Python 3",
   "language": "python",
   "name": "python3"
  },
  "language_info": {
   "codemirror_mode": {
    "name": "ipython",
    "version": 3
   },
   "file_extension": ".py",
   "mimetype": "text/x-python",
   "name": "python",
   "nbconvert_exporter": "python",
   "pygments_lexer": "ipython3",
   "version": "3.7.3"
  }
 },
 "nbformat": 4,
 "nbformat_minor": 2
}
